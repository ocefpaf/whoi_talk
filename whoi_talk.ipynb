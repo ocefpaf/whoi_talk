{
 "cells": [
  {
   "cell_type": "code",
   "execution_count": 1,
   "metadata": {
    "collapsed": false,
    "scrolled": true,
    "slideshow": {
     "slide_type": "skip"
    }
   },
   "outputs": [],
   "source": [
    "import warnings\n",
    "from IPython.display import HTML\n",
    "\n",
    "\n",
    "warnings.filterwarnings(\"ignore\")\n",
    "\n",
    "with open('./custom.css') as f:\n",
    "    css = f.read()\n",
    "\n",
    "ids = \"\"\"<li>\n",
    "          <a href=\"https://github.com/ocefpaf\">\n",
    "            <span class=\"icon github\">\n",
    "              <svg version=\"1.1\" class=\"github-icon-svg\" xmlns=\"http://www.w3.org/2000/svg\" xmlns:xlink=\"http://www.w3.org/1999/xlink\" x=\"0px\" y=\"0px\"\n",
    "                 viewBox=\"0 0 16 16\" enable-background=\"new 0 0 16 16\" xml:space=\"preserve\">\n",
    "                <path fill-rule=\"evenodd\" clip-rule=\"evenodd\" fill=\"#C2C2C2\" d=\"M7.999,0.431c-4.285,0-7.76,3.474-7.76,7.761\n",
    "                c0,3.428,2.223,6.337,5.307,7.363c0.388,0.071,0.53-0.168,0.53-0.374c0-0.184-0.007-0.672-0.01-1.32\n",
    "                c-2.159,0.469-2.614-1.04-2.614-1.04c-0.353-0.896-0.862-1.135-0.862-1.135c-0.705-0.481,0.053-0.472,0.053-0.472\n",
    "                c0.779,0.055,1.189,0.8,1.189,0.8c0.692,1.186,1.816,0.843,2.258,0.645c0.071-0.502,0.271-0.843,0.493-1.037\n",
    "                C4.86,11.425,3.049,10.76,3.049,7.786c0-0.847,0.302-1.54,0.799-2.082C3.768,5.507,3.501,4.718,3.924,3.65\n",
    "                c0,0,0.652-0.209,2.134,0.796C6.677,4.273,7.34,4.187,8,4.184c0.659,0.003,1.323,0.089,1.943,0.261\n",
    "                c1.482-1.004,2.132-0.796,2.132-0.796c0.423,1.068,0.157,1.857,0.077,2.054c0.497,0.542,0.798,1.235,0.798,2.082\n",
    "                c0,2.981-1.814,3.637-3.543,3.829c0.279,0.24,0.527,0.713,0.527,1.437c0,1.037-0.01,1.874-0.01,2.129\n",
    "                c0,0.208,0.14,0.449,0.534,0.373c3.081-1.028,5.302-3.935,5.302-7.362C15.76,3.906,12.285,0.431,7.999,0.431z\"/>\n",
    "              </svg>\n",
    "            </span>\n",
    "            <span class=\"username\">ocefpaf</span>\n",
    "          </a>\n",
    "        </li>\n",
    "        \n",
    "        <li>\n",
    "          <a href=\"https://twitter.com/ocefpaf\">\n",
    "            <span class=\"icon twitter\">\n",
    "              <svg version=\"1.1\" class=\"twitter-icon-svg\" xmlns=\"http://www.w3.org/2000/svg\" xmlns:xlink=\"http://www.w3.org/1999/xlink\" x=\"0px\" y=\"0px\"\n",
    "                 viewBox=\"0 0 16 16\" enable-background=\"new 0 0 16 16\" xml:space=\"preserve\">\n",
    "                <path fill=\"#C2C2C2\" d=\"M15.969,3.058c-0.586,0.26-1.217,0.436-1.878,0.515c0.675-0.405,1.194-1.045,1.438-1.809\n",
    "                c-0.632,0.375-1.332,0.647-2.076,0.793c-0.596-0.636-1.446-1.033-2.387-1.033c-1.806,0-3.27,1.464-3.27,3.27\n",
    "                c0,0.256,0.029,0.506,0.085,0.745C5.163,5.404,2.753,4.102,1.14,2.124C0.859,2.607,0.698,3.168,0.698,3.767\n",
    "                c0,1.134,0.577,2.135,1.455,2.722C1.616,6.472,1.112,6.325,0.671,6.08c0,0.014,0,0.027,0,0.041c0,1.584,1.127,2.906,2.623,3.206\n",
    "                C3.02,9.402,2.731,9.442,2.433,9.442c-0.211,0-0.416-0.021-0.615-0.059c0.416,1.299,1.624,2.245,3.055,2.271\n",
    "                c-1.119,0.877-2.529,1.4-4.061,1.4c-0.264,0-0.524-0.015-0.78-0.046c1.447,0.928,3.166,1.469,5.013,1.469\n",
    "                c6.015,0,9.304-4.983,9.304-9.304c0-0.142-0.003-0.283-0.009-0.423C14.976,4.29,15.531,3.714,15.969,3.058z\"/>\n",
    "              </svg>\n",
    "            </span>\n",
    "            <span class=\"username\">ocefpaf</span>\n",
    "          </a>\n",
    "        </li>\n",
    "       <li>\n",
    "       <a href=\"mailto:ocefpaf@gmail.com\">ocefpaf@gmail.com</a>\n",
    "       </li>\n",
    "\"\"\""
   ]
  },
  {
   "cell_type": "markdown",
   "metadata": {
    "slideshow": {
     "slide_type": "slide"
    }
   },
   "source": [
    "# A tour of the ~~Scientific~~ Oceanographic Python stack"
   ]
  },
  {
   "cell_type": "code",
   "execution_count": 2,
   "metadata": {
    "collapsed": false,
    "scrolled": true,
    "slideshow": {
     "slide_type": "fragment"
    }
   },
   "outputs": [
    {
     "data": {
      "text/html": [
       "<li>\n",
       "          <a href=\"https://github.com/ocefpaf\">\n",
       "            <span class=\"icon github\">\n",
       "              <svg version=\"1.1\" class=\"github-icon-svg\" xmlns=\"http://www.w3.org/2000/svg\" xmlns:xlink=\"http://www.w3.org/1999/xlink\" x=\"0px\" y=\"0px\"\n",
       "                 viewBox=\"0 0 16 16\" enable-background=\"new 0 0 16 16\" xml:space=\"preserve\">\n",
       "                <path fill-rule=\"evenodd\" clip-rule=\"evenodd\" fill=\"#C2C2C2\" d=\"M7.999,0.431c-4.285,0-7.76,3.474-7.76,7.761\n",
       "                c0,3.428,2.223,6.337,5.307,7.363c0.388,0.071,0.53-0.168,0.53-0.374c0-0.184-0.007-0.672-0.01-1.32\n",
       "                c-2.159,0.469-2.614-1.04-2.614-1.04c-0.353-0.896-0.862-1.135-0.862-1.135c-0.705-0.481,0.053-0.472,0.053-0.472\n",
       "                c0.779,0.055,1.189,0.8,1.189,0.8c0.692,1.186,1.816,0.843,2.258,0.645c0.071-0.502,0.271-0.843,0.493-1.037\n",
       "                C4.86,11.425,3.049,10.76,3.049,7.786c0-0.847,0.302-1.54,0.799-2.082C3.768,5.507,3.501,4.718,3.924,3.65\n",
       "                c0,0,0.652-0.209,2.134,0.796C6.677,4.273,7.34,4.187,8,4.184c0.659,0.003,1.323,0.089,1.943,0.261\n",
       "                c1.482-1.004,2.132-0.796,2.132-0.796c0.423,1.068,0.157,1.857,0.077,2.054c0.497,0.542,0.798,1.235,0.798,2.082\n",
       "                c0,2.981-1.814,3.637-3.543,3.829c0.279,0.24,0.527,0.713,0.527,1.437c0,1.037-0.01,1.874-0.01,2.129\n",
       "                c0,0.208,0.14,0.449,0.534,0.373c3.081-1.028,5.302-3.935,5.302-7.362C15.76,3.906,12.285,0.431,7.999,0.431z\"/>\n",
       "              </svg>\n",
       "            </span>\n",
       "            <span class=\"username\">ocefpaf</span>\n",
       "          </a>\n",
       "        </li>\n",
       "        \n",
       "        <li>\n",
       "          <a href=\"https://twitter.com/ocefpaf\">\n",
       "            <span class=\"icon twitter\">\n",
       "              <svg version=\"1.1\" class=\"twitter-icon-svg\" xmlns=\"http://www.w3.org/2000/svg\" xmlns:xlink=\"http://www.w3.org/1999/xlink\" x=\"0px\" y=\"0px\"\n",
       "                 viewBox=\"0 0 16 16\" enable-background=\"new 0 0 16 16\" xml:space=\"preserve\">\n",
       "                <path fill=\"#C2C2C2\" d=\"M15.969,3.058c-0.586,0.26-1.217,0.436-1.878,0.515c0.675-0.405,1.194-1.045,1.438-1.809\n",
       "                c-0.632,0.375-1.332,0.647-2.076,0.793c-0.596-0.636-1.446-1.033-2.387-1.033c-1.806,0-3.27,1.464-3.27,3.27\n",
       "                c0,0.256,0.029,0.506,0.085,0.745C5.163,5.404,2.753,4.102,1.14,2.124C0.859,2.607,0.698,3.168,0.698,3.767\n",
       "                c0,1.134,0.577,2.135,1.455,2.722C1.616,6.472,1.112,6.325,0.671,6.08c0,0.014,0,0.027,0,0.041c0,1.584,1.127,2.906,2.623,3.206\n",
       "                C3.02,9.402,2.731,9.442,2.433,9.442c-0.211,0-0.416-0.021-0.615-0.059c0.416,1.299,1.624,2.245,3.055,2.271\n",
       "                c-1.119,0.877-2.529,1.4-4.061,1.4c-0.264,0-0.524-0.015-0.78-0.046c1.447,0.928,3.166,1.469,5.013,1.469\n",
       "                c6.015,0,9.304-4.983,9.304-9.304c0-0.142-0.003-0.283-0.009-0.423C14.976,4.29,15.531,3.714,15.969,3.058z\"/>\n",
       "              </svg>\n",
       "            </span>\n",
       "            <span class=\"username\">ocefpaf</span>\n",
       "          </a>\n",
       "        </li>\n",
       "       <li>\n",
       "       <a href=\"mailto:ocefpaf@gmail.com\">ocefpaf@gmail.com</a>\n",
       "       </li>\n"
      ],
      "text/plain": [
       "<IPython.core.display.HTML object>"
      ]
     },
     "execution_count": 2,
     "metadata": {},
     "output_type": "execute_result"
    }
   ],
   "source": [
    "HTML(ids)"
   ]
  },
  {
   "cell_type": "markdown",
   "metadata": {
    "slideshow": {
     "slide_type": "slide"
    }
   },
   "source": [
    "### Before we begin\n",
    "\n",
    "- How to I install Python?\n",
    "- Which distribution should I use?\n",
    "- Which Python version should I use?\n",
    "- Why we cannot have a single installer like Matlab?"
   ]
  },
  {
   "cell_type": "markdown",
   "metadata": {
    "slideshow": {
     "slide_type": "slide"
    }
   },
   "source": [
    "url = http://repo.continuum.io/miniconda/Miniconda-latest-Linux-x86_64.sh\n",
    "\n",
    "```bash\n",
    "curl $url -o miniconda.sh\n",
    "bash miniconda.sh -b\n",
    "export PATH=$HOME/miniconda/bin:$PATH\n",
    "conda update --yes --all\n",
    "```"
   ]
  },
  {
   "cell_type": "markdown",
   "metadata": {
    "slideshow": {
     "slide_type": "fragment"
    }
   },
   "source": [
    "url=https://raw.githubusercontent.com/ioos/conda-recipes/master/environment.yml\n",
    "\n",
    "```bash\n",
    "curl $url -o environment.yml\n",
    "conda env create environment.yml\n",
    "```"
   ]
  },
  {
   "cell_type": "markdown",
   "metadata": {
    "slideshow": {
     "slide_type": "slide"
    }
   },
   "source": [
    "# NumPy\n",
    "\n",
    "http://www.numpy.org/\n",
    "\n",
    "See also:\n",
    "\n",
    "- http://www.labri.fr/perso/nrougier/teaching/numpy.100/\n",
    "- http://mathesaurus.sourceforge.net/matlab-numpy.html"
   ]
  },
  {
   "cell_type": "markdown",
   "metadata": {
    "slideshow": {
     "slide_type": "slide"
    }
   },
   "source": [
    "Reading some data"
   ]
  },
  {
   "cell_type": "code",
   "execution_count": 3,
   "metadata": {
    "collapsed": false,
    "scrolled": true,
    "slideshow": {
     "slide_type": "fragment"
    }
   },
   "outputs": [
    {
     "name": "stdout",
     "output_type": "stream",
     "text": [
      ",datahora,t_1,t_10,t_100,t_120,t_13,t_140,t_180,t_20,t_300,t_40,t_5,t_500,t_60,t_80\r\n",
      "0,2005-08-24 12:00:00+00:00,25.19,-99999.0,25.2,24.89,-99999.0,23.79,20.6,25.17,12.46,25.17,-99999.0,6.82,25.19,25.19\r\n",
      "1,2005-08-25 12:00:00+00:00,25.19,-99999.0,25.17,24.72,-99999.0,23.61,20.31,25.18,12.27,25.18,-99999.0,6.85,25.21,25.18\r\n",
      "2,2005-08-26 12:00:00+00:00,25.26,-99999.0,25.13,24.74,-99999.0,23.63,20.43,25.24,12.36,25.22,-99999.0,6.87,25.2,25.16\r\n",
      "3,2005-08-27 12:00:00+00:00,25.23,-99999.0,25.04,24.77,-99999.0,23.74,20.1,25.19,12.23,25.19,-99999.0,6.86,25.14,25.08\r\n",
      "4,2005-08-28 12:00:00+00:00,25.25,-99999.0,24.9,24.78,-99999.0,23.81,20.21,25.21,12.48,25.11,-99999.0,6.79,25.04,24.99\r\n",
      "5,2005-08-29 12:00:00+00:00,25.33,-99999.0,24.89,24.43,-99999.0,23.51,19.93,25.27,12.29,25.12,-99999.0,6.87,25.03,24.94\r\n",
      "6,2005-08-30 12:00:00+00:00,25.49,-99999.0,24.84,23.88,-99999.0,23.15,19.93,25.39,12.42,25.33,-99999.0,6.79,25.3,25.03\r\n",
      "7,2005-08-31 12:00:00+00:00,25.47,-99999.0,24.91,23.92,-99999.0,23.22,20.01,25.43,12.47,25.44,-99999.0,6.88,25.39,25.16\r\n",
      "8,2005-09-01 12:00:00+00:00,25.47,-99999.0,24.95,24.6,-99999.0,23.71,20.26,25.44,12.38,25.44,-99999.0,6.89,25.46,25.16\r\n"
     ]
    }
   ],
   "source": [
    "!head ./data/dados_pirata.csv"
   ]
  },
  {
   "cell_type": "markdown",
   "metadata": {
    "slideshow": {
     "slide_type": "slide"
    }
   },
   "source": [
    "We need to skip the header and the date-time column"
   ]
  },
  {
   "cell_type": "code",
   "execution_count": 4,
   "metadata": {
    "collapsed": false,
    "scrolled": true,
    "slideshow": {
     "slide_type": "fragment"
    }
   },
   "outputs": [
    {
     "data": {
      "text/plain": [
       "((3653, 14), dtype('float64'))"
      ]
     },
     "execution_count": 4,
     "metadata": {},
     "output_type": "execute_result"
    }
   ],
   "source": [
    "import numpy as np\n",
    "\n",
    "data = np.loadtxt(\"./data/dados_pirata.csv\",\n",
    "                  skiprows=1,\n",
    "                  usecols=range(2, 16),\n",
    "                  delimiter=',')\n",
    "\n",
    "data[data == -99999.] = np.NaN\n",
    "\n",
    "data.shape, data.dtype"
   ]
  },
  {
   "cell_type": "markdown",
   "metadata": {
    "slideshow": {
     "slide_type": "slide"
    }
   },
   "source": [
    "The depth information was in header!\n",
    "\n",
    "We need to type that in..."
   ]
  },
  {
   "cell_type": "code",
   "execution_count": 5,
   "metadata": {
    "collapsed": false,
    "scrolled": true,
    "slideshow": {
     "slide_type": "fragment"
    }
   },
   "outputs": [
    {
     "data": {
      "image/png": "[encoded data removed]",
      "text/plain": [
       "<matplotlib.figure.Figure at 0x7fab6d21fb90>"
      ]
     },
     "metadata": {},
     "output_type": "display_data"
    }
   ],
   "source": [
    "%matplotlib inline\n",
    "import matplotlib.pyplot as plt\n",
    "\n",
    "z = [1, 10, 100, 120, 13, 140, 180, 20, 300, 40,5, 500, 60, 80]\n",
    "\n",
    "fig, ax = plt.subplots()\n",
    "ax.plot(data[42, :], z, 'ko')\n",
    "ax.invert_yaxis()"
   ]
  },
  {
   "cell_type": "markdown",
   "metadata": {
    "slideshow": {
     "slide_type": "slide"
    }
   },
   "source": [
    "# Pandas: can we do better than NumPy arrays?\n",
    "\n",
    "http://pandas.pydata.org/"
   ]
  },
  {
   "cell_type": "markdown",
   "metadata": {
    "slideshow": {
     "slide_type": "slide"
    }
   },
   "source": [
    "Note that almost everything we did before is now done in the loading function"
   ]
  },
  {
   "cell_type": "code",
   "execution_count": 6,
   "metadata": {
    "collapsed": false,
    "scrolled": true,
    "slideshow": {
     "slide_type": "fragment"
    }
   },
   "outputs": [
    {
     "data": {
      "text/html": [
       "<div>\n",
       "<table border=\"1\" class=\"dataframe\">\n",
       "  <thead>\n",
       "    <tr style=\"text-align: right;\">\n",
       "      <th></th>\n",
       "      <th>001</th>\n",
       "      <th>005</th>\n",
       "      <th>010</th>\n",
       "      <th>013</th>\n",
       "      <th>020</th>\n",
       "      <th>040</th>\n",
       "      <th>060</th>\n",
       "      <th>080</th>\n",
       "      <th>100</th>\n",
       "      <th>120</th>\n",
       "      <th>140</th>\n",
       "      <th>180</th>\n",
       "      <th>300</th>\n",
       "      <th>500</th>\n",
       "    </tr>\n",
       "    <tr>\n",
       "      <th>datahora</th>\n",
       "      <th></th>\n",
       "      <th></th>\n",
       "      <th></th>\n",
       "      <th></th>\n",
       "      <th></th>\n",
       "      <th></th>\n",
       "      <th></th>\n",
       "      <th></th>\n",
       "      <th></th>\n",
       "      <th></th>\n",
       "      <th></th>\n",
       "      <th></th>\n",
       "      <th></th>\n",
       "      <th></th>\n",
       "    </tr>\n",
       "  </thead>\n",
       "  <tbody>\n",
       "    <tr>\n",
       "      <th>2005-08-24 12:00:00</th>\n",
       "      <td>25.19</td>\n",
       "      <td>NaN</td>\n",
       "      <td>NaN</td>\n",
       "      <td>NaN</td>\n",
       "      <td>25.17</td>\n",
       "      <td>25.17</td>\n",
       "      <td>25.19</td>\n",
       "      <td>25.19</td>\n",
       "      <td>25.20</td>\n",
       "      <td>24.89</td>\n",
       "      <td>23.79</td>\n",
       "      <td>20.60</td>\n",
       "      <td>12.46</td>\n",
       "      <td>6.82</td>\n",
       "    </tr>\n",
       "    <tr>\n",
       "      <th>2005-08-25 12:00:00</th>\n",
       "      <td>25.19</td>\n",
       "      <td>NaN</td>\n",
       "      <td>NaN</td>\n",
       "      <td>NaN</td>\n",
       "      <td>25.18</td>\n",
       "      <td>25.18</td>\n",
       "      <td>25.21</td>\n",
       "      <td>25.18</td>\n",
       "      <td>25.17</td>\n",
       "      <td>24.72</td>\n",
       "      <td>23.61</td>\n",
       "      <td>20.31</td>\n",
       "      <td>12.27</td>\n",
       "      <td>6.85</td>\n",
       "    </tr>\n",
       "    <tr>\n",
       "      <th>2005-08-26 12:00:00</th>\n",
       "      <td>25.26</td>\n",
       "      <td>NaN</td>\n",
       "      <td>NaN</td>\n",
       "      <td>NaN</td>\n",
       "      <td>25.24</td>\n",
       "      <td>25.22</td>\n",
       "      <td>25.20</td>\n",
       "      <td>25.16</td>\n",
       "      <td>25.13</td>\n",
       "      <td>24.74</td>\n",
       "      <td>23.63</td>\n",
       "      <td>20.43</td>\n",
       "      <td>12.36</td>\n",
       "      <td>6.87</td>\n",
       "    </tr>\n",
       "    <tr>\n",
       "      <th>2005-08-27 12:00:00</th>\n",
       "      <td>25.23</td>\n",
       "      <td>NaN</td>\n",
       "      <td>NaN</td>\n",
       "      <td>NaN</td>\n",
       "      <td>25.19</td>\n",
       "      <td>25.19</td>\n",
       "      <td>25.14</td>\n",
       "      <td>25.08</td>\n",
       "      <td>25.04</td>\n",
       "      <td>24.77</td>\n",
       "      <td>23.74</td>\n",
       "      <td>20.10</td>\n",
       "      <td>12.23</td>\n",
       "      <td>6.86</td>\n",
       "    </tr>\n",
       "    <tr>\n",
       "      <th>2005-08-28 12:00:00</th>\n",
       "      <td>25.25</td>\n",
       "      <td>NaN</td>\n",
       "      <td>NaN</td>\n",
       "      <td>NaN</td>\n",
       "      <td>25.21</td>\n",
       "      <td>25.11</td>\n",
       "      <td>25.04</td>\n",
       "      <td>24.99</td>\n",
       "      <td>24.90</td>\n",
       "      <td>24.78</td>\n",
       "      <td>23.81</td>\n",
       "      <td>20.21</td>\n",
       "      <td>12.48</td>\n",
       "      <td>6.79</td>\n",
       "    </tr>\n",
       "  </tbody>\n",
       "</table>\n",
       "</div>"
      ],
      "text/plain": [
       "                       001  005  010  013    020    040    060    080    100  \\\n",
       "datahora                                                                       \n",
       "2005-08-24 12:00:00  25.19  NaN  NaN  NaN  25.17  25.17  25.19  25.19  25.20   \n",
       "2005-08-25 12:00:00  25.19  NaN  NaN  NaN  25.18  25.18  25.21  25.18  25.17   \n",
       "2005-08-26 12:00:00  25.26  NaN  NaN  NaN  25.24  25.22  25.20  25.16  25.13   \n",
       "2005-08-27 12:00:00  25.23  NaN  NaN  NaN  25.19  25.19  25.14  25.08  25.04   \n",
       "2005-08-28 12:00:00  25.25  NaN  NaN  NaN  25.21  25.11  25.04  24.99  24.90   \n",
       "\n",
       "                       120    140    180    300   500  \n",
       "datahora                                               \n",
       "2005-08-24 12:00:00  24.89  23.79  20.60  12.46  6.82  \n",
       "2005-08-25 12:00:00  24.72  23.61  20.31  12.27  6.85  \n",
       "2005-08-26 12:00:00  24.74  23.63  20.43  12.36  6.87  \n",
       "2005-08-27 12:00:00  24.77  23.74  20.10  12.23  6.86  \n",
       "2005-08-28 12:00:00  24.78  23.81  20.21  12.48  6.79  "
      ]
     },
     "execution_count": 6,
     "metadata": {},
     "output_type": "execute_result"
    }
   ],
   "source": [
    "import pandas as pd\n",
    "\n",
    "df = pd.read_csv('./data/dados_pirata.csv',\n",
    "                 index_col='datahora',\n",
    "                 na_values=-99999,\n",
    "                 parse_dates=True).drop('Unnamed: 0', axis=1)\n",
    "\n",
    "df.columns = ['{0:0>3}'.format(col.split('_')[1]) for\n",
    "              col in df.columns]\n",
    "df.sort(axis=1, inplace=True)\n",
    "\n",
    "\n",
    "df.head()"
   ]
  },
  {
   "cell_type": "markdown",
   "metadata": {
    "slideshow": {
     "slide_type": "slide"
    }
   },
   "source": [
    "Pandas behave like masked-arrays,\n",
    "but with some extra convenience functions."
   ]
  },
  {
   "cell_type": "code",
   "execution_count": 7,
   "metadata": {
    "collapsed": false,
    "scrolled": true,
    "slideshow": {
     "slide_type": "fragment"
    }
   },
   "outputs": [
    {
     "data": {
      "text/html": [
       "<div>\n",
       "<table border=\"1\" class=\"dataframe\">\n",
       "  <thead>\n",
       "    <tr style=\"text-align: right;\">\n",
       "      <th></th>\n",
       "      <th>001</th>\n",
       "      <th>020</th>\n",
       "      <th>040</th>\n",
       "      <th>060</th>\n",
       "      <th>080</th>\n",
       "      <th>100</th>\n",
       "      <th>120</th>\n",
       "      <th>140</th>\n",
       "      <th>180</th>\n",
       "      <th>300</th>\n",
       "      <th>500</th>\n",
       "    </tr>\n",
       "    <tr>\n",
       "      <th>datahora</th>\n",
       "      <th></th>\n",
       "      <th></th>\n",
       "      <th></th>\n",
       "      <th></th>\n",
       "      <th></th>\n",
       "      <th></th>\n",
       "      <th></th>\n",
       "      <th></th>\n",
       "      <th></th>\n",
       "      <th></th>\n",
       "      <th></th>\n",
       "    </tr>\n",
       "  </thead>\n",
       "  <tbody>\n",
       "    <tr>\n",
       "      <th>2005-08-24 12:00:00</th>\n",
       "      <td>25.19</td>\n",
       "      <td>25.17</td>\n",
       "      <td>25.17</td>\n",
       "      <td>25.19</td>\n",
       "      <td>25.19</td>\n",
       "      <td>25.20</td>\n",
       "      <td>24.89</td>\n",
       "      <td>23.79</td>\n",
       "      <td>20.60</td>\n",
       "      <td>12.46</td>\n",
       "      <td>6.82</td>\n",
       "    </tr>\n",
       "    <tr>\n",
       "      <th>2005-08-25 12:00:00</th>\n",
       "      <td>25.19</td>\n",
       "      <td>25.18</td>\n",
       "      <td>25.18</td>\n",
       "      <td>25.21</td>\n",
       "      <td>25.18</td>\n",
       "      <td>25.17</td>\n",
       "      <td>24.72</td>\n",
       "      <td>23.61</td>\n",
       "      <td>20.31</td>\n",
       "      <td>12.27</td>\n",
       "      <td>6.85</td>\n",
       "    </tr>\n",
       "    <tr>\n",
       "      <th>2005-08-26 12:00:00</th>\n",
       "      <td>25.26</td>\n",
       "      <td>25.24</td>\n",
       "      <td>25.22</td>\n",
       "      <td>25.20</td>\n",
       "      <td>25.16</td>\n",
       "      <td>25.13</td>\n",
       "      <td>24.74</td>\n",
       "      <td>23.63</td>\n",
       "      <td>20.43</td>\n",
       "      <td>12.36</td>\n",
       "      <td>6.87</td>\n",
       "    </tr>\n",
       "    <tr>\n",
       "      <th>2005-08-27 12:00:00</th>\n",
       "      <td>25.23</td>\n",
       "      <td>25.19</td>\n",
       "      <td>25.19</td>\n",
       "      <td>25.14</td>\n",
       "      <td>25.08</td>\n",
       "      <td>25.04</td>\n",
       "      <td>24.77</td>\n",
       "      <td>23.74</td>\n",
       "      <td>20.10</td>\n",
       "      <td>12.23</td>\n",
       "      <td>6.86</td>\n",
       "    </tr>\n",
       "    <tr>\n",
       "      <th>2005-08-28 12:00:00</th>\n",
       "      <td>25.25</td>\n",
       "      <td>25.21</td>\n",
       "      <td>25.11</td>\n",
       "      <td>25.04</td>\n",
       "      <td>24.99</td>\n",
       "      <td>24.90</td>\n",
       "      <td>24.78</td>\n",
       "      <td>23.81</td>\n",
       "      <td>20.21</td>\n",
       "      <td>12.48</td>\n",
       "      <td>6.79</td>\n",
       "    </tr>\n",
       "  </tbody>\n",
       "</table>\n",
       "</div>"
      ],
      "text/plain": [
       "                       001    020    040    060    080    100    120    140  \\\n",
       "datahora                                                                      \n",
       "2005-08-24 12:00:00  25.19  25.17  25.17  25.19  25.19  25.20  24.89  23.79   \n",
       "2005-08-25 12:00:00  25.19  25.18  25.18  25.21  25.18  25.17  24.72  23.61   \n",
       "2005-08-26 12:00:00  25.26  25.24  25.22  25.20  25.16  25.13  24.74  23.63   \n",
       "2005-08-27 12:00:00  25.23  25.19  25.19  25.14  25.08  25.04  24.77  23.74   \n",
       "2005-08-28 12:00:00  25.25  25.21  25.11  25.04  24.99  24.90  24.78  23.81   \n",
       "\n",
       "                       180    300   500  \n",
       "datahora                                 \n",
       "2005-08-24 12:00:00  20.60  12.46  6.82  \n",
       "2005-08-25 12:00:00  20.31  12.27  6.85  \n",
       "2005-08-26 12:00:00  20.43  12.36  6.87  \n",
       "2005-08-27 12:00:00  20.10  12.23  6.86  \n",
       "2005-08-28 12:00:00  20.21  12.48  6.79  "
      ]
     },
     "execution_count": 7,
     "metadata": {},
     "output_type": "execute_result"
    }
   ],
   "source": [
    "df.dropna(how='all', axis=1, inplace=True)\n",
    "\n",
    "df.head()"
   ]
  },
  {
   "cell_type": "markdown",
   "metadata": {
    "slideshow": {
     "slide_type": "slide"
    }
   },
   "source": [
    "Quick way to explore the data"
   ]
  },
  {
   "cell_type": "code",
   "execution_count": 8,
   "metadata": {
    "collapsed": false,
    "scrolled": true,
    "slideshow": {
     "slide_type": "fragment"
    }
   },
   "outputs": [
    {
     "data": {
      "text/html": [
       "<div>\n",
       "<table border=\"1\" class=\"dataframe\">\n",
       "  <thead>\n",
       "    <tr style=\"text-align: right;\">\n",
       "      <th></th>\n",
       "      <th>001</th>\n",
       "      <th>020</th>\n",
       "      <th>040</th>\n",
       "      <th>060</th>\n",
       "      <th>080</th>\n",
       "      <th>100</th>\n",
       "      <th>120</th>\n",
       "      <th>140</th>\n",
       "      <th>180</th>\n",
       "      <th>300</th>\n",
       "      <th>500</th>\n",
       "    </tr>\n",
       "  </thead>\n",
       "  <tbody>\n",
       "    <tr>\n",
       "      <th>count</th>\n",
       "      <td>3206.000000</td>\n",
       "      <td>2949.000000</td>\n",
       "      <td>3408.000000</td>\n",
       "      <td>3408.000000</td>\n",
       "      <td>3161.000000</td>\n",
       "      <td>3407.000000</td>\n",
       "      <td>3405.000000</td>\n",
       "      <td>3405.000000</td>\n",
       "      <td>3405.000000</td>\n",
       "      <td>3405.000000</td>\n",
       "      <td>3405.000000</td>\n",
       "    </tr>\n",
       "    <tr>\n",
       "      <th>mean</th>\n",
       "      <td>26.903054</td>\n",
       "      <td>26.856673</td>\n",
       "      <td>26.746086</td>\n",
       "      <td>26.283706</td>\n",
       "      <td>25.486109</td>\n",
       "      <td>24.681382</td>\n",
       "      <td>23.947416</td>\n",
       "      <td>23.076496</td>\n",
       "      <td>20.080417</td>\n",
       "      <td>12.359806</td>\n",
       "      <td>6.675656</td>\n",
       "    </tr>\n",
       "    <tr>\n",
       "      <th>std</th>\n",
       "      <td>1.030174</td>\n",
       "      <td>0.999788</td>\n",
       "      <td>0.992836</td>\n",
       "      <td>0.840345</td>\n",
       "      <td>0.523529</td>\n",
       "      <td>0.500878</td>\n",
       "      <td>0.607452</td>\n",
       "      <td>0.755077</td>\n",
       "      <td>1.081181</td>\n",
       "      <td>0.461918</td>\n",
       "      <td>0.266193</td>\n",
       "    </tr>\n",
       "    <tr>\n",
       "      <th>min</th>\n",
       "      <td>24.710000</td>\n",
       "      <td>24.820000</td>\n",
       "      <td>24.630000</td>\n",
       "      <td>24.550000</td>\n",
       "      <td>23.950000</td>\n",
       "      <td>22.850000</td>\n",
       "      <td>21.450000</td>\n",
       "      <td>20.110000</td>\n",
       "      <td>17.210000</td>\n",
       "      <td>10.930000</td>\n",
       "      <td>5.620000</td>\n",
       "    </tr>\n",
       "    <tr>\n",
       "      <th>25%</th>\n",
       "      <td>26.020000</td>\n",
       "      <td>25.970000</td>\n",
       "      <td>25.880000</td>\n",
       "      <td>25.590000</td>\n",
       "      <td>25.120000</td>\n",
       "      <td>24.350000</td>\n",
       "      <td>23.550000</td>\n",
       "      <td>22.590000</td>\n",
       "      <td>19.260000</td>\n",
       "      <td>12.050000</td>\n",
       "      <td>6.500000</td>\n",
       "    </tr>\n",
       "    <tr>\n",
       "      <th>50%</th>\n",
       "      <td>26.940000</td>\n",
       "      <td>26.900000</td>\n",
       "      <td>26.820000</td>\n",
       "      <td>26.210000</td>\n",
       "      <td>25.430000</td>\n",
       "      <td>24.660000</td>\n",
       "      <td>23.920000</td>\n",
       "      <td>23.090000</td>\n",
       "      <td>20.100000</td>\n",
       "      <td>12.370000</td>\n",
       "      <td>6.700000</td>\n",
       "    </tr>\n",
       "    <tr>\n",
       "      <th>75%</th>\n",
       "      <td>27.750000</td>\n",
       "      <td>27.720000</td>\n",
       "      <td>27.580000</td>\n",
       "      <td>26.960000</td>\n",
       "      <td>25.800000</td>\n",
       "      <td>24.990000</td>\n",
       "      <td>24.350000</td>\n",
       "      <td>23.620000</td>\n",
       "      <td>20.880000</td>\n",
       "      <td>12.670000</td>\n",
       "      <td>6.840000</td>\n",
       "    </tr>\n",
       "    <tr>\n",
       "      <th>max</th>\n",
       "      <td>29.090000</td>\n",
       "      <td>28.840000</td>\n",
       "      <td>28.790000</td>\n",
       "      <td>28.580000</td>\n",
       "      <td>27.080000</td>\n",
       "      <td>26.450000</td>\n",
       "      <td>25.580000</td>\n",
       "      <td>25.180000</td>\n",
       "      <td>23.210000</td>\n",
       "      <td>13.630000</td>\n",
       "      <td>7.790000</td>\n",
       "    </tr>\n",
       "  </tbody>\n",
       "</table>\n",
       "</div>"
      ],
      "text/plain": [
       "               001          020          040          060          080  \\\n",
       "count  3206.000000  2949.000000  3408.000000  3408.000000  3161.000000   \n",
       "mean     26.903054    26.856673    26.746086    26.283706    25.486109   \n",
       "std       1.030174     0.999788     0.992836     0.840345     0.523529   \n",
       "min      24.710000    24.820000    24.630000    24.550000    23.950000   \n",
       "25%      26.020000    25.970000    25.880000    25.590000    25.120000   \n",
       "50%      26.940000    26.900000    26.820000    26.210000    25.430000   \n",
       "75%      27.750000    27.720000    27.580000    26.960000    25.800000   \n",
       "max      29.090000    28.840000    28.790000    28.580000    27.080000   \n",
       "\n",
       "               100          120          140          180          300  \\\n",
       "count  3407.000000  3405.000000  3405.000000  3405.000000  3405.000000   \n",
       "mean     24.681382    23.947416    23.076496    20.080417    12.359806   \n",
       "std       0.500878     0.607452     0.755077     1.081181     0.461918   \n",
       "min      22.850000    21.450000    20.110000    17.210000    10.930000   \n",
       "25%      24.350000    23.550000    22.590000    19.260000    12.050000   \n",
       "50%      24.660000    23.920000    23.090000    20.100000    12.370000   \n",
       "75%      24.990000    24.350000    23.620000    20.880000    12.670000   \n",
       "max      26.450000    25.580000    25.180000    23.210000    13.630000   \n",
       "\n",
       "               500  \n",
       "count  3405.000000  \n",
       "mean      6.675656  \n",
       "std       0.266193  \n",
       "min       5.620000  \n",
       "25%       6.500000  \n",
       "50%       6.700000  \n",
       "75%       6.840000  \n",
       "max       7.790000  "
      ]
     },
     "execution_count": 8,
     "metadata": {},
     "output_type": "execute_result"
    }
   ],
   "source": [
    "desc = df.describe()\n",
    "desc"
   ]
  },
  {
   "cell_type": "markdown",
   "metadata": {
    "slideshow": {
     "slide_type": "slide"
    }
   },
   "source": [
    "High level code"
   ]
  },
  {
   "cell_type": "code",
   "execution_count": 9,
   "metadata": {
    "collapsed": false,
    "scrolled": true,
    "slideshow": {
     "slide_type": "fragment"
    }
   },
   "outputs": [
    {
     "data": {
      "text/plain": [
       "001    1.061258\n",
       "020    0.999577\n",
       "040    0.985722\n",
       "060    0.706179\n",
       "080    0.274083\n",
       "100    0.250879\n",
       "120    0.368998\n",
       "140    0.570141\n",
       "180    1.168953\n",
       "300    0.213368\n",
       "500    0.070859\n",
       "Name: std, dtype: float64"
      ]
     },
     "execution_count": 9,
     "metadata": {},
     "output_type": "execute_result"
    }
   ],
   "source": [
    "desc.ix['std'] ** 2"
   ]
  },
  {
   "cell_type": "code",
   "execution_count": 10,
   "metadata": {
    "collapsed": false,
    "scrolled": true,
    "slideshow": {
     "slide_type": "slide"
    }
   },
   "outputs": [
    {
     "data": {
      "image/png": "[encoded data removed]",
      "text/plain": [
       "<matplotlib.figure.Figure at 0x7fab3ed88710>"
      ]
     },
     "metadata": {},
     "output_type": "display_data"
    }
   ],
   "source": [
    "ax = df[['001', '500']].plot(figsize=(11, 3))"
   ]
  },
  {
   "cell_type": "markdown",
   "metadata": {
    "slideshow": {
     "slide_type": "slide"
    }
   },
   "source": [
    "More continence functions:\n",
    "- interpolate"
   ]
  },
  {
   "cell_type": "code",
   "execution_count": 11,
   "metadata": {
    "collapsed": false,
    "scrolled": true,
    "slideshow": {
     "slide_type": "fragment"
    }
   },
   "outputs": [
    {
     "data": {
      "image/png": "[encoded data removed]",
      "text/plain": [
       "<matplotlib.figure.Figure at 0x7fab3dda06d0>"
      ]
     },
     "metadata": {},
     "output_type": "display_data"
    }
   ],
   "source": [
    "df['001'].interpolate().plot(figsize=(11, 3))\n",
    "ax = df['001'].plot()"
   ]
  },
  {
   "cell_type": "markdown",
   "metadata": {
    "slideshow": {
     "slide_type": "slide"
    }
   },
   "source": [
    "Full control of the interpolation"
   ]
  },
  {
   "cell_type": "code",
   "execution_count": 12,
   "metadata": {
    "collapsed": false,
    "scrolled": true,
    "slideshow": {
     "slide_type": "fragment"
    }
   },
   "outputs": [
    {
     "data": {
      "image/png": "[encoded data removed]",
      "text/plain": [
       "<matplotlib.figure.Figure at 0x7fab3dcabed0>"
      ]
     },
     "metadata": {},
     "output_type": "display_data"
    }
   ],
   "source": [
    "kw = dict(method='time', limit=20)\n",
    "df['001'].interpolate(**kw).plot(figsize=(11, 3))\n",
    "ax = df['001'].plot()"
   ]
  },
  {
   "cell_type": "markdown",
   "metadata": {
    "slideshow": {
     "slide_type": "slide"
    }
   },
   "source": [
    "Pandas loves time-series"
   ]
  },
  {
   "cell_type": "code",
   "execution_count": 13,
   "metadata": {
    "collapsed": false,
    "scrolled": true,
    "slideshow": {
     "slide_type": "fragment"
    }
   },
   "outputs": [
    {
     "data": {
      "image/png": "[encoded data removed]",
      "text/plain": [
       "<matplotlib.figure.Figure at 0x7fab3deebcd0>"
      ]
     },
     "metadata": {},
     "output_type": "display_data"
    }
   ],
   "source": [
    "key = lambda x: x.month\n",
    "\n",
    "grouped = df.groupby(key)\n",
    "\n",
    "monthly = grouped.mean()\n",
    "\n",
    "fig, ax = plt.subplots(figsize=(9, 5))\n",
    "\n",
    "ax = monthly.plot(ax=ax)"
   ]
  },
  {
   "cell_type": "markdown",
   "metadata": {
    "slideshow": {
     "slide_type": "slide"
    }
   },
   "source": [
    "## Pandas has a siblings:\n",
    "\n",
    "- geopandas\n",
    "- ctd\n",
    "- xray"
   ]
  },
  {
   "cell_type": "markdown",
   "metadata": {
    "slideshow": {
     "slide_type": "slide"
    }
   },
   "source": [
    "geopandas can read GeoJSONs, shapefiles, etc as pandas DataFrames\n",
    "\n",
    "http://geopandas.org/"
   ]
  },
  {
   "cell_type": "code",
   "execution_count": 14,
   "metadata": {
    "collapsed": false,
    "scrolled": true,
    "slideshow": {
     "slide_type": "fragment"
    }
   },
   "outputs": [
    {
     "data": {
      "image/png": "[encoded data removed]",
      "text/plain": [
       "<matplotlib.figure.Figure at 0x7fab55b3a7d0>"
      ]
     },
     "metadata": {},
     "output_type": "display_data"
    }
   ],
   "source": [
    "import geopandas as gpd\n",
    "\n",
    "fname = \"./data/2013-04-29-Running.geojson\"\n",
    "\n",
    "df = gpd.read_file(fname)\n",
    "\n",
    "ax = df.plot()"
   ]
  },
  {
   "cell_type": "markdown",
   "metadata": {
    "slideshow": {
     "slide_type": "slide"
    }
   },
   "source": [
    "ctd: load ctd, xbt data directly into pandas\n",
    "\n",
    "https://pypi.python.org/pypi/ctd"
   ]
  },
  {
   "cell_type": "code",
   "execution_count": 15,
   "metadata": {
    "collapsed": false,
    "scrolled": true,
    "slideshow": {
     "slide_type": "fragment"
    }
   },
   "outputs": [
    {
     "data": {
      "text/html": [
       "<div>\n",
       "<table border=\"1\" class=\"dataframe\">\n",
       "  <thead>\n",
       "    <tr style=\"text-align: right;\">\n",
       "      <th></th>\n",
       "      <th>scan</th>\n",
       "      <th>timeS</th>\n",
       "      <th>t090C</th>\n",
       "      <th>t190C</th>\n",
       "      <th>c0S/m</th>\n",
       "      <th>c1S/m</th>\n",
       "      <th>sbeox0V</th>\n",
       "      <th>par</th>\n",
       "      <th>spar</th>\n",
       "      <th>ph</th>\n",
       "      <th>...</th>\n",
       "      <th>longitude</th>\n",
       "      <th>pumps</th>\n",
       "      <th>pla</th>\n",
       "      <th>sbeox0PS</th>\n",
       "      <th>sbeox0Mm/Kg</th>\n",
       "      <th>dz/dtM</th>\n",
       "      <th>accM</th>\n",
       "      <th>flSP</th>\n",
       "      <th>xmiss</th>\n",
       "      <th>flag</th>\n",
       "    </tr>\n",
       "    <tr>\n",
       "      <th>Pressure [dbar]</th>\n",
       "      <th></th>\n",
       "      <th></th>\n",
       "      <th></th>\n",
       "      <th></th>\n",
       "      <th></th>\n",
       "      <th></th>\n",
       "      <th></th>\n",
       "      <th></th>\n",
       "      <th></th>\n",
       "      <th></th>\n",
       "      <th></th>\n",
       "      <th></th>\n",
       "      <th></th>\n",
       "      <th></th>\n",
       "      <th></th>\n",
       "      <th></th>\n",
       "      <th></th>\n",
       "      <th></th>\n",
       "      <th></th>\n",
       "      <th></th>\n",
       "      <th></th>\n",
       "    </tr>\n",
       "  </thead>\n",
       "  <tbody>\n",
       "    <tr>\n",
       "      <th>2.810</th>\n",
       "      <td>1</td>\n",
       "      <td>0.000</td>\n",
       "      <td>24.2158</td>\n",
       "      <td>24.2132</td>\n",
       "      <td>5.527058</td>\n",
       "      <td>5.526362</td>\n",
       "      <td>2.8107</td>\n",
       "      <td>1.000000e-12</td>\n",
       "      <td>11.761</td>\n",
       "      <td>-2.332</td>\n",
       "      <td>...</td>\n",
       "      <td>-47.452167</td>\n",
       "      <td>True</td>\n",
       "      <td>24.221</td>\n",
       "      <td>71.49588</td>\n",
       "      <td>147.595</td>\n",
       "      <td>0.000</td>\n",
       "      <td>0.00</td>\n",
       "      <td>0.11111</td>\n",
       "      <td>96.8657</td>\n",
       "      <td>False</td>\n",
       "    </tr>\n",
       "    <tr>\n",
       "      <th>2.846</th>\n",
       "      <td>2</td>\n",
       "      <td>0.042</td>\n",
       "      <td>24.2158</td>\n",
       "      <td>24.2132</td>\n",
       "      <td>5.527065</td>\n",
       "      <td>5.526352</td>\n",
       "      <td>2.8120</td>\n",
       "      <td>1.000000e-12</td>\n",
       "      <td>13.721</td>\n",
       "      <td>-2.336</td>\n",
       "      <td>...</td>\n",
       "      <td>-47.452167</td>\n",
       "      <td>True</td>\n",
       "      <td>24.221</td>\n",
       "      <td>71.53789</td>\n",
       "      <td>147.682</td>\n",
       "      <td>0.878</td>\n",
       "      <td>21.08</td>\n",
       "      <td>0.10867</td>\n",
       "      <td>96.8657</td>\n",
       "      <td>False</td>\n",
       "    </tr>\n",
       "    <tr>\n",
       "      <th>2.810</th>\n",
       "      <td>3</td>\n",
       "      <td>0.083</td>\n",
       "      <td>24.2156</td>\n",
       "      <td>24.2131</td>\n",
       "      <td>5.527060</td>\n",
       "      <td>5.526333</td>\n",
       "      <td>2.8120</td>\n",
       "      <td>1.000000e-12</td>\n",
       "      <td>11.761</td>\n",
       "      <td>-2.336</td>\n",
       "      <td>...</td>\n",
       "      <td>-47.452167</td>\n",
       "      <td>True</td>\n",
       "      <td>24.221</td>\n",
       "      <td>71.53759</td>\n",
       "      <td>147.682</td>\n",
       "      <td>-0.878</td>\n",
       "      <td>-42.16</td>\n",
       "      <td>0.10623</td>\n",
       "      <td>96.8657</td>\n",
       "      <td>False</td>\n",
       "    </tr>\n",
       "    <tr>\n",
       "      <th>2.744</th>\n",
       "      <td>4</td>\n",
       "      <td>0.125</td>\n",
       "      <td>24.2156</td>\n",
       "      <td>24.2132</td>\n",
       "      <td>5.527091</td>\n",
       "      <td>5.526339</td>\n",
       "      <td>2.8120</td>\n",
       "      <td>1.000000e-12</td>\n",
       "      <td>13.721</td>\n",
       "      <td>-2.336</td>\n",
       "      <td>...</td>\n",
       "      <td>-47.452167</td>\n",
       "      <td>True</td>\n",
       "      <td>24.221</td>\n",
       "      <td>71.53702</td>\n",
       "      <td>147.680</td>\n",
       "      <td>-1.581</td>\n",
       "      <td>-16.87</td>\n",
       "      <td>0.10745</td>\n",
       "      <td>96.8657</td>\n",
       "      <td>False</td>\n",
       "    </tr>\n",
       "    <tr>\n",
       "      <th>2.707</th>\n",
       "      <td>5</td>\n",
       "      <td>0.167</td>\n",
       "      <td>24.2158</td>\n",
       "      <td>24.2134</td>\n",
       "      <td>5.527052</td>\n",
       "      <td>5.526343</td>\n",
       "      <td>2.8132</td>\n",
       "      <td>1.000000e-12</td>\n",
       "      <td>13.721</td>\n",
       "      <td>-2.332</td>\n",
       "      <td>...</td>\n",
       "      <td>-47.452167</td>\n",
       "      <td>True</td>\n",
       "      <td>24.221</td>\n",
       "      <td>71.57837</td>\n",
       "      <td>147.766</td>\n",
       "      <td>-0.878</td>\n",
       "      <td>16.87</td>\n",
       "      <td>0.11111</td>\n",
       "      <td>96.9189</td>\n",
       "      <td>False</td>\n",
       "    </tr>\n",
       "  </tbody>\n",
       "</table>\n",
       "<p>5 rows × 30 columns</p>\n",
       "</div>"
      ],
      "text/plain": [
       "                 scan  timeS    t090C    t190C     c0S/m     c1S/m  sbeox0V  \\\n",
       "Pressure [dbar]                                                               \n",
       "2.810               1  0.000  24.2158  24.2132  5.527058  5.526362   2.8107   \n",
       "2.846               2  0.042  24.2158  24.2132  5.527065  5.526352   2.8120   \n",
       "2.810               3  0.083  24.2156  24.2131  5.527060  5.526333   2.8120   \n",
       "2.744               4  0.125  24.2156  24.2132  5.527091  5.526339   2.8120   \n",
       "2.707               5  0.167  24.2158  24.2134  5.527052  5.526343   2.8132   \n",
       "\n",
       "                          par    spar     ph  ...    longitude  pumps     pla  \\\n",
       "Pressure [dbar]                               ...                               \n",
       "2.810            1.000000e-12  11.761 -2.332  ...   -47.452167   True  24.221   \n",
       "2.846            1.000000e-12  13.721 -2.336  ...   -47.452167   True  24.221   \n",
       "2.810            1.000000e-12  11.761 -2.336  ...   -47.452167   True  24.221   \n",
       "2.744            1.000000e-12  13.721 -2.336  ...   -47.452167   True  24.221   \n",
       "2.707            1.000000e-12  13.721 -2.332  ...   -47.452167   True  24.221   \n",
       "\n",
       "                 sbeox0PS  sbeox0Mm/Kg  dz/dtM   accM     flSP    xmiss   flag  \n",
       "Pressure [dbar]                                                                 \n",
       "2.810            71.49588      147.595   0.000   0.00  0.11111  96.8657  False  \n",
       "2.846            71.53789      147.682   0.878  21.08  0.10867  96.8657  False  \n",
       "2.810            71.53759      147.682  -0.878 -42.16  0.10623  96.8657  False  \n",
       "2.744            71.53702      147.680  -1.581 -16.87  0.10745  96.8657  False  \n",
       "2.707            71.57837      147.766  -0.878  16.87  0.11111  96.9189  False  \n",
       "\n",
       "[5 rows x 30 columns]"
      ]
     },
     "execution_count": 15,
     "metadata": {},
     "output_type": "execute_result"
    }
   ],
   "source": [
    "from ctd import DataFrame\n",
    "\n",
    "cast = DataFrame.from_cnv('./data/CTD_001.cnv.gz', compression='gzip')\n",
    "\n",
    "cast.head()"
   ]
  },
  {
   "cell_type": "code",
   "execution_count": 16,
   "metadata": {
    "collapsed": false,
    "scrolled": true,
    "slideshow": {
     "slide_type": "slide"
    }
   },
   "outputs": [
    {
     "data": {
      "image/png": "[encoded data removed]",
      "text/plain": [
       "<matplotlib.figure.Figure at 0x7fab43ed7690>"
      ]
     },
     "metadata": {},
     "output_type": "display_data"
    }
   ],
   "source": [
    "downcast, upcast = cast['t090C'].split()\n",
    "fig, ax = downcast.plot()"
   ]
  },
  {
   "cell_type": "markdown",
   "metadata": {
    "slideshow": {
     "slide_type": "slide"
    }
   },
   "source": [
    "xray: netCDF4 + pandas + >2D tables\n",
    "\n",
    "http://xray.readthedocs.org/en/stable/"
   ]
  },
  {
   "cell_type": "code",
   "execution_count": 17,
   "metadata": {
    "collapsed": false,
    "scrolled": true,
    "slideshow": {
     "slide_type": "fragment"
    }
   },
   "outputs": [
    {
     "data": {
      "text/plain": [
       "<xray.Dataset>\n",
       "Dimensions:                 (NST: 6, Nbed: 1, eta_psi: 106, eta_rho: 107, eta_u: 107, eta_v: 106, ocean_time: 201, s_rho: 16, s_w: 17, tracer: 8, xi_psi: 344, xi_rho: 345, xi_u: 344, xi_v: 345)\n",
       "Coordinates:\n",
       "  * s_rho                   (s_rho) float64 -0.9688 -0.9062 -0.8438 -0.7812 ...\n",
       "  * s_w                     (s_w) float64 -1.0 -0.9375 -0.875 -0.8125 -0.75 ...\n",
       "    lon_rho                 (eta_rho, xi_rho) float64 ...\n",
       "    lat_rho                 (eta_rho, xi_rho) float64 ...\n",
       "    lon_u                   (eta_u, xi_u) float64 ...\n",
       "    lat_u                   (eta_u, xi_u) float64 ...\n",
       "    lon_v                   (eta_v, xi_v) float64 ...\n",
       "    lat_v                   (eta_v, xi_v) float64 ...\n",
       "    lon_psi                 (eta_psi, xi_psi) float64 ...\n",
       "    lat_psi                 (eta_psi, xi_psi) float64 ...\n",
       "  * ocean_time              (ocean_time) datetime64[ns] 2012-10-25 ...\n",
       "  * NST                     (NST) int64 0 1 2 3 4 5\n",
       "  * Nbed                    (Nbed) int64 0\n",
       "  * eta_psi                 (eta_psi) int64 0 1 2 3 4 5 6 7 8 9 10 11 12 13 ...\n",
       "  * eta_rho                 (eta_rho) int64 0 1 2 3 4 5 6 7 8 9 10 11 12 13 ...\n",
       "  * eta_u                   (eta_u) int64 0 1 2 3 4 5 6 7 8 9 10 11 12 13 14 ...\n",
       "  * eta_v                   (eta_v) int64 0 1 2 3 4 5 6 7 8 9 10 11 12 13 14 ...\n",
       "  * tracer                  (tracer) int64 0 1 2 3 4 5 6 7\n",
       "  * xi_psi                  (xi_psi) int64 0 1 2 3 4 5 6 7 8 9 10 11 12 13 ...\n",
       "  * xi_rho                  (xi_rho) int64 0 1 2 3 4 5 6 7 8 9 10 11 12 13 ...\n",
       "  * xi_u                    (xi_u) int64 0 1 2 3 4 5 6 7 8 9 10 11 12 13 14 ...\n",
       "  * xi_v                    (xi_v) int64 0 1 2 3 4 5 6 7 8 9 10 11 12 13 14 ...\n",
       "Data variables:\n",
       "    ntimes                  int32 ...\n",
       "    ndtfast                 int32 ...\n",
       "    dt                      float64 ...\n",
       "    dtfast                  float64 ...\n",
       "    dstart                  datetime64[ns] ...\n",
       "    nHIS                    int32 ...\n",
       "    ndefHIS                 int32 ...\n",
       "    nRST                    int32 ...\n",
       "    Falpha                  float64 ...\n",
       "    Fbeta                   float64 ...\n",
       "    Fgamma                  float64 ...\n",
       "    nl_tnu2                 (tracer) float64 ...\n",
       "    nl_visc2                float64 ...\n",
       "    LuvSponge               int32 ...\n",
       "    LtracerSponge           (tracer) int32 ...\n",
       "    Akt_bak                 (tracer) float64 ...\n",
       "    Akv_bak                 float64 ...\n",
       "    Akk_bak                 float64 ...\n",
       "    Akp_bak                 float64 ...\n",
       "    rdrg                    float64 ...\n",
       "    rdrg2                   float64 ...\n",
       "    Zob                     float64 ...\n",
       "    Zos                     float64 ...\n",
       "    gls_p                   float64 ...\n",
       "    gls_m                   float64 ...\n",
       "    gls_n                   float64 ...\n",
       "    gls_cmu0                float64 ...\n",
       "    gls_c1                  float64 ...\n",
       "    gls_c2                  float64 ...\n",
       "    gls_c3m                 float64 ...\n",
       "    gls_c3p                 float64 ...\n",
       "    gls_sigk                float64 ...\n",
       "    gls_sigp                float64 ...\n",
       "    gls_Kmin                float64 ...\n",
       "    gls_Pmin                float64 ...\n",
       "    Charnok_alpha           float64 ...\n",
       "    Zos_hsig_alpha          float64 ...\n",
       "    sz_alpha                float64 ...\n",
       "    CrgBan_cw               float64 ...\n",
       "    wec_alpha               float64 ...\n",
       "    Znudg                   float64 ...\n",
       "    M2nudg                  float64 ...\n",
       "    M3nudg                  float64 ...\n",
       "    Tnudg                   (tracer) float64 ...\n",
       "    rho0                    float64 ...\n",
       "    gamma2                  float64 ...\n",
       "    LuvSrc                  int32 ...\n",
       "    LwSrc                   int32 ...\n",
       "    LtracerSrc              (tracer) int32 ...\n",
       "    LsshCLM                 int32 ...\n",
       "    Lm2CLM                  int32 ...\n",
       "    Lm3CLM                  int32 ...\n",
       "    LtracerCLM              (tracer) int32 ...\n",
       "    LnudgeM2CLM             int32 ...\n",
       "    LnudgeM3CLM             int32 ...\n",
       "    LnudgeTCLM              (tracer) int32 ...\n",
       "    minlayer_thick          float64 ...\n",
       "    newlayer_thick          float64 ...\n",
       "    bedload_coeff           float64 ...\n",
       "    Sd50                    (NST) float64 ...\n",
       "    Srho                    (NST) float64 ...\n",
       "    Csed                    (NST) float64 ...\n",
       "    Wsed                    (NST) float64 ...\n",
       "    Erate                   (NST) float64 ...\n",
       "    tau_ce                  (NST) float64 ...\n",
       "    tau_cd                  (NST) float64 ...\n",
       "    poros                   (NST) float64 ...\n",
       "    spherical               int32 ...\n",
       "    xl                      float64 ...\n",
       "    el                      float64 ...\n",
       "    Vtransform              int32 ...\n",
       "    Vstretching             int32 ...\n",
       "    theta_s                 float64 ...\n",
       "    theta_b                 float64 ...\n",
       "    Tcline                  float64 ...\n",
       "    hc                      float64 ...\n",
       "    Cs_r                    (s_rho) float64 ...\n",
       "    Cs_w                    (s_w) float64 ...\n",
       "    h                       (eta_rho, xi_rho) float64 ...\n",
       "    f                       (eta_rho, xi_rho) float64 ...\n",
       "    pm                      (eta_rho, xi_rho) float64 ...\n",
       "    pn                      (eta_rho, xi_rho) float64 ...\n",
       "    angle                   (eta_rho, xi_rho) float64 ...\n",
       "    mask_rho                (eta_rho, xi_rho) float64 ...\n",
       "    mask_u                  (eta_u, xi_u) float64 ...\n",
       "    mask_v                  (eta_v, xi_v) float64 ...\n",
       "    mask_psi                (eta_psi, xi_psi) float64 ...\n",
       "    wetdry_mask_psi         (ocean_time, eta_psi, xi_psi) float32 ...\n",
       "    wetdry_mask_rho         (ocean_time, eta_rho, xi_rho) float32 ...\n",
       "    wetdry_mask_u           (ocean_time, eta_u, xi_u) float32 ...\n",
       "    wetdry_mask_v           (ocean_time, eta_v, xi_v) float32 ...\n",
       "    zeta                    (ocean_time, eta_rho, xi_rho) float32 ...\n",
       "    ubar                    (ocean_time, eta_u, xi_u) float64 ...\n",
       "    vbar                    (ocean_time, eta_v, xi_v) float64 ...\n",
       "    u                       (ocean_time, s_rho, eta_u, xi_u) float64 ...\n",
       "    v                       (ocean_time, s_rho, eta_v, xi_v) float64 ...\n",
       "    w                       (ocean_time, s_w, eta_rho, xi_rho) float64 ...\n",
       "    temp                    (ocean_time, s_rho, eta_rho, xi_rho) float64 ...\n",
       "    salt                    (ocean_time, s_rho, eta_rho, xi_rho) float64 ...\n",
       "    sand_01                 (ocean_time, s_rho, eta_rho, xi_rho) float64 ...\n",
       "    sand_02                 (ocean_time, s_rho, eta_rho, xi_rho) float64 ...\n",
       "    sand_03                 (ocean_time, s_rho, eta_rho, xi_rho) float64 ...\n",
       "    sand_04                 (ocean_time, s_rho, eta_rho, xi_rho) float64 ...\n",
       "    sand_05                 (ocean_time, s_rho, eta_rho, xi_rho) float64 ...\n",
       "    sand_06                 (ocean_time, s_rho, eta_rho, xi_rho) float64 ...\n",
       "    uWave                   (ocean_time, eta_rho, xi_rho) float64 ...\n",
       "    vWave                   (ocean_time, eta_rho, xi_rho) float64 ...\n",
       "    bustrc                  (ocean_time, eta_rho, xi_rho) float64 ...\n",
       "    bvstrc                  (ocean_time, eta_rho, xi_rho) float64 ...\n",
       "    bustrw                  (ocean_time, eta_rho, xi_rho) float64 ...\n",
       "    bvstrw                  (ocean_time, eta_rho, xi_rho) float64 ...\n",
       "    bustrcwmax              (ocean_time, eta_rho, xi_rho) float64 ...\n",
       "    bvstrcwmax              (ocean_time, eta_rho, xi_rho) float64 ...\n",
       "    bstrcwmax               (ocean_time, eta_rho, xi_rho) float64 ...\n",
       "    bedload_Usand_01        (ocean_time, eta_u, xi_u) float64 ...\n",
       "    bedload_Vsand_01        (ocean_time, eta_v, xi_v) float64 ...\n",
       "    bedload_Usand_02        (ocean_time, eta_u, xi_u) float64 ...\n",
       "    bedload_Vsand_02        (ocean_time, eta_v, xi_v) float64 ...\n",
       "    bedload_Usand_03        (ocean_time, eta_u, xi_u) float64 ...\n",
       "    bedload_Vsand_03        (ocean_time, eta_v, xi_v) float64 ...\n",
       "    bedload_Usand_04        (ocean_time, eta_u, xi_u) float64 ...\n",
       "    bedload_Vsand_04        (ocean_time, eta_v, xi_v) float64 ...\n",
       "    bedload_Usand_05        (ocean_time, eta_u, xi_u) float64 ...\n",
       "    bedload_Vsand_05        (ocean_time, eta_v, xi_v) float64 ...\n",
       "    bedload_Usand_06        (ocean_time, eta_u, xi_u) float64 ...\n",
       "    bedload_Vsand_06        (ocean_time, eta_v, xi_v) float64 ...\n",
       "    sandfrac_01             (ocean_time, Nbed, eta_rho, xi_rho) float64 ...\n",
       "    sandfrac_02             (ocean_time, Nbed, eta_rho, xi_rho) float64 ...\n",
       "    sandfrac_03             (ocean_time, Nbed, eta_rho, xi_rho) float64 ...\n",
       "    sandfrac_04             (ocean_time, Nbed, eta_rho, xi_rho) float64 ...\n",
       "    sandfrac_05             (ocean_time, Nbed, eta_rho, xi_rho) float64 ...\n",
       "    sandfrac_06             (ocean_time, Nbed, eta_rho, xi_rho) float64 ...\n",
       "    sandmass_01             (ocean_time, Nbed, eta_rho, xi_rho) float64 ...\n",
       "    sandmass_02             (ocean_time, Nbed, eta_rho, xi_rho) float64 ...\n",
       "    sandmass_03             (ocean_time, Nbed, eta_rho, xi_rho) float64 ...\n",
       "    sandmass_04             (ocean_time, Nbed, eta_rho, xi_rho) float64 ...\n",
       "    sandmass_05             (ocean_time, Nbed, eta_rho, xi_rho) float64 ...\n",
       "    sandmass_06             (ocean_time, Nbed, eta_rho, xi_rho) float64 ...\n",
       "    bed_thickness           (ocean_time, Nbed, eta_rho, xi_rho) float64 ...\n",
       "    bed_age                 (ocean_time, Nbed, eta_rho, xi_rho) timedelta64[ns] ...\n",
       "    bed_porosity            (ocean_time, Nbed, eta_rho, xi_rho) float64 ...\n",
       "    bed_biodiff             (ocean_time, Nbed, eta_rho, xi_rho) float64 ...\n",
       "    grain_diameter          (ocean_time, eta_rho, xi_rho) float64 ...\n",
       "    grain_density           (ocean_time, eta_rho, xi_rho) float64 ...\n",
       "    settling_vel            (ocean_time, eta_rho, xi_rho) float64 ...\n",
       "    erosion_stress          (ocean_time, eta_rho, xi_rho) float64 ...\n",
       "    ripple_length           (ocean_time, eta_rho, xi_rho) float64 ...\n",
       "    ripple_height           (ocean_time, eta_rho, xi_rho) float64 ...\n",
       "    bed_wave_amp            (ocean_time, eta_rho, xi_rho) float64 ...\n",
       "    Zo_def                  (ocean_time, eta_rho, xi_rho) float64 ...\n",
       "    Zo_app                  (ocean_time, eta_rho, xi_rho) float64 ...\n",
       "    active_layer_thickness  (ocean_time, eta_rho, xi_rho) float64 ...\n",
       "    bed_inund_depth         (ocean_time, eta_rho, xi_rho) float64 ...\n",
       "    dep_net                 (ocean_time, eta_rho, xi_rho) float64 ...\n",
       "    u_stokes                (ocean_time, s_rho, eta_u, xi_u) float64 ...\n",
       "    v_stokes                (ocean_time, s_rho, eta_v, xi_v) float64 ...\n",
       "    Hwave                   (ocean_time, eta_rho, xi_rho) float64 ...\n",
       "    Lwave                   (ocean_time, eta_rho, xi_rho) float64 ...\n",
       "    Lwavep                  (ocean_time, eta_rho, xi_rho) float64 ...\n",
       "    Dwave                   (ocean_time, eta_rho, xi_rho) float64 ...\n",
       "    Pwave_top               (ocean_time, eta_rho, xi_rho) float64 ...\n",
       "    Pwave_bot               (ocean_time, eta_rho, xi_rho) float64 ...\n",
       "    Uwave_rms               (ocean_time, eta_rho, xi_rho) float64 ...\n",
       "    grid                    int32 ...\n",
       "Attributes:\n",
       "    file: Output/ocean_NYB05_his_0016.nc\n",
       "    format: netCDF-3 64bit offset file\n",
       "    Conventions: CF-1.6, SGRID-0.1, ACDD-1.3\n",
       "    type: ROMS/TOMS history file\n",
       "    title: USGS-CMG-COAWST Model: Hurricane Sandy, NYB05 700m Nest\n",
       "    rst_file: Output/ocean_NYB05_rst.nc\n",
       "    his_base: Output/ocean_NYB05_his\n",
       "    grd_file: ../grids/NYB_700m_05.nc\n",
       "    ini_file: Output/ocean_NYB05_his_0009.nc\n",
       "    frc_file_01: ../forcings/roms_namnarr_2030Oct2012.nc, ../forcings/roms_namnarr_30Oct10Nov2012.nc\n",
       "    clm_file_01: ../forcings/merged_coawst_clm_10Sep_29Dec2012.nc\n",
       "    script_file: \n",
       "    NLM_LBC: \n",
       "EDGE:         WEST   SOUTH  EAST   NORTH  \n",
       "zeta:         Nes    Nes    Nes    Nes    \n",
       "ubar:         Nes    Nes    Nes    Nes    \n",
       "vbar:         Nes    Nes    Nes    Nes    \n",
       "u:            Nes    Nes    Nes    Nes    \n",
       "v:            Nes    Nes    Nes    Nes    \n",
       "temp:         Nes    Nes    Nes    Nes    \n",
       "salt:         Nes    Nes    Nes    Nes    \n",
       "sand_01:      Nes    Nes    Nes    Nes    \n",
       "sand_02:      Nes    Nes    Nes    Nes    \n",
       "sand_03:      Nes    Nes    Nes    Nes    \n",
       "sand_04:      Nes    Ne...\n",
       "    svn_url: https:://myroms.org/svn/src\n",
       "    svn_rev: exported\n",
       "    code_dir: /raid3/jcwarner/Projects/Sandy/sim6\n",
       "    header_dir: /raid3/jcwarner/Projects/Sandy/sim6/Projects/FireIsland\n",
       "    header_file: fireisland.h\n",
       "    os: Linux\n",
       "    cpu: x86_64\n",
       "    compiler_system: pgi\n",
       "    compiler_command: /usr/local/mpi/bin/mpif90\n",
       "    compiler_flags:  -fastsse -Mipa=fast -tp k8-64 -Mfree\n",
       "    tiling: 008x005\n",
       "    history: ROMS/TOMS, Version 3.7, Tuesday - June 2, 2015 - 10:15:23 PM\n",
       "    ana_file: ROMS/Functionals/ana_btflux.h, ROMS/Functionals/ana_fsobc.h, ROMS/Functionals/ana_m2obc.h, ROMS/Functionals/ana_nudgcoef.h, ROMS/Functionals/ana_srflux.h, ROMS/Functionals/ana_stflux.h\n",
       "    CPP_options: FIREISLAND, ANA_BPFLUX, ANA_BSFLUX, ANA_BTFLUX, ANA_FSOBC, ANA_M2OBC, ANA_NUDGCOEF, ANA_SPFLUX, ANA_SRFLUX, ASSUMED_SHAPE, ATM_PRESS, BEDLOAD_SOULSBY, BULK_FLUXES, CHARNOK, CRAIG_BANNER, COARE_TAYLOR_YELLAND, CURVGRID, DJ_GRADPS, DOUBLE_PRECISION, EMINUSP, GLS_MIXING, KANTHA_CLAYSON, MASKING, MCT_LIB, MIX_GEO_TS, MIX_S_UV, MPI, WEC_VF, WDISS_WAVEMOD, NESTING, NONLINEAR, NONLIN_EOS, NO_LBC_ATT, N2S2_HORAVG, !ONE_WAY, POWER_LAW, PROFILE, K_GSCHEME, !RST_SINGLE, SALINITY, SEDIMENT, SUSPLOAD, NON...\n",
       "    cdm_data_type: Grid\n",
       "    publisher_email: jcwarner@usgs.gov\n",
       "    publisher_url: http://woodshole.er.usgs.gov/staffpages/jwarner/\n",
       "    publisher_name: John Warner\n",
       "    license: The data may be used and redistributed for free but is not intended for legal use, since it may contain inaccuracies. Neither the data Contributor, nor the United States Government, nor any of their employees or contractors, makes any warranty, express or implied, including warranties of merchantability and fitness for a particular purpose, or assumes any legal liability for the accuracy, completeness, or usefulness, of this information.\n",
       "    creator_email: jcwarner@usgs.gov\n",
       "    creator_url: http://woodshole.er.usgs.gov/staffpages/jwarner/\n",
       "    creator_name: John Warner\n",
       "    summary: Simulation of hydrodynamics, waves, bottom stress and sediment transport during Hurricane Sandy. These results are from the 700m finest resolutionnest of a three-level nested simulation.\n",
       "    project: CMG_Portal,Sandy_Portal\n",
       "    references: http://woodshole.er.usgs.gov/operations/modeling/COAWST/,doi:10.1016/j.cageo.2008.02.012\n",
       "    id: USGS_COAWST_Sandy_NYB05_sim6\n",
       "    naming_authority: gov.usgs.cmg"
      ]
     },
     "execution_count": 17,
     "metadata": {},
     "output_type": "execute_result"
    }
   ],
   "source": [
    "import xray\n",
    "\n",
    "url = ('http://geoport.whoi.edu/thredds/dodsC/clay/usgs/'\n",
    "       'users/jcwarner/Projects/Sandy/triple_nest/'\n",
    "       '00_dir_NYB05.ncml')\n",
    "\n",
    "ds = xray.open_dataset(url)\n",
    "ds"
   ]
  },
  {
   "cell_type": "markdown",
   "metadata": {
    "slideshow": {
     "slide_type": "slide"
    }
   },
   "source": [
    "Slice the variables using its name (like netCDF4)"
   ]
  },
  {
   "cell_type": "code",
   "execution_count": 18,
   "metadata": {
    "collapsed": false,
    "scrolled": true,
    "slideshow": {
     "slide_type": "fragment"
    }
   },
   "outputs": [
    {
     "data": {
      "text/plain": [
       "<xray.DataArray 'temp' (ocean_time: 201, s_rho: 16, eta_rho: 107, xi_rho: 345)>\n",
       "[118718640 values with dtype=float64]\n",
       "Coordinates:\n",
       "    lon_rho     (eta_rho, xi_rho) float64 ...\n",
       "    lat_rho     (eta_rho, xi_rho) float64 ...\n",
       "  * ocean_time  (ocean_time) datetime64[ns] 2012-10-25 2012-10-25T01:00:00 ...\n",
       "  * xi_rho      (xi_rho) int64 0 1 2 3 4 5 6 7 8 9 10 11 12 13 14 15 16 17 ...\n",
       "  * s_rho       (s_rho) float64 -0.9688 -0.9062 -0.8438 -0.7812 -0.7188 ...\n",
       "  * eta_rho     (eta_rho) int64 0 1 2 3 4 5 6 7 8 9 10 11 12 13 14 15 16 17 ...\n",
       "Attributes:\n",
       "    long_name: potential temperature\n",
       "    units: Celsius\n",
       "    time: ocean_time\n",
       "    field: temperature, scalar, series\n",
       "    standard_name: sea_water_potential_temperature\n",
       "    grid: grid\n",
       "    content_coverage_type: modelResult\n",
       "    location: face"
      ]
     },
     "execution_count": 18,
     "metadata": {},
     "output_type": "execute_result"
    }
   ],
   "source": [
    "temp = ds['temp']\n",
    "temp"
   ]
  },
  {
   "cell_type": "markdown",
   "metadata": {
    "slideshow": {
     "slide_type": "slide"
    }
   },
   "source": [
    "Use level dates slice (like pandas)"
   ]
  },
  {
   "cell_type": "code",
   "execution_count": 19,
   "metadata": {
    "collapsed": false,
    "scrolled": true,
    "slideshow": {
     "slide_type": "fragment"
    }
   },
   "outputs": [
    {
     "data": {
      "text/plain": [
       "<xray.DataArray 'temp' (ocean_time: 24, s_rho: 16, eta_rho: 107, xi_rho: 345)>\n",
       "[14175360 values with dtype=float64]\n",
       "Coordinates:\n",
       "    lon_rho     (eta_rho, xi_rho) float64 ...\n",
       "    lat_rho     (eta_rho, xi_rho) float64 ...\n",
       "  * ocean_time  (ocean_time) datetime64[ns] 2012-10-25 2012-10-25T01:00:00 ...\n",
       "  * xi_rho      (xi_rho) int64 0 1 2 3 4 5 6 7 8 9 10 11 12 13 14 15 16 17 ...\n",
       "  * s_rho       (s_rho) float64 -0.9688 -0.9062 -0.8438 -0.7812 -0.7188 ...\n",
       "  * eta_rho     (eta_rho) int64 0 1 2 3 4 5 6 7 8 9 10 11 12 13 14 15 16 17 ...\n",
       "Attributes:\n",
       "    long_name: potential temperature\n",
       "    units: Celsius\n",
       "    time: ocean_time\n",
       "    field: temperature, scalar, series\n",
       "    standard_name: sea_water_potential_temperature\n",
       "    grid: grid\n",
       "    content_coverage_type: modelResult\n",
       "    location: face"
      ]
     },
     "execution_count": 19,
     "metadata": {},
     "output_type": "execute_result"
    }
   ],
   "source": [
    "temp.sel(ocean_time='2012-10-25')"
   ]
  },
  {
   "cell_type": "markdown",
   "metadata": {
    "slideshow": {
     "slide_type": "slide"
    }
   },
   "source": [
    "All pandas time-series goodies are present"
   ]
  },
  {
   "cell_type": "markdown",
   "metadata": {
    "slideshow": {
     "slide_type": "fragment"
    }
   },
   "source": [
    "```python\n",
    "temp.resample('1M', 'ocean_time')\n",
    "```"
   ]
  },
  {
   "cell_type": "markdown",
   "metadata": {
    "slideshow": {
     "slide_type": "slide"
    }
   },
   "source": [
    "You can even slice using integers and named the axis"
   ]
  },
  {
   "cell_type": "code",
   "execution_count": 20,
   "metadata": {
    "collapsed": false,
    "scrolled": true,
    "slideshow": {
     "slide_type": "fragment"
    }
   },
   "outputs": [
    {
     "data": {
      "image/png": "[encoded data removed]",
      "text/plain": [
       "<matplotlib.figure.Figure at 0x7fab29b3b150>"
      ]
     },
     "metadata": {},
     "output_type": "display_data"
    }
   ],
   "source": [
    "t = temp.isel(s_rho=-1, ocean_time=0)\n",
    "\n",
    "cs = t.plot()"
   ]
  },
  {
   "cell_type": "markdown",
   "metadata": {
    "slideshow": {
     "slide_type": "slide"
    }
   },
   "source": [
    "# dask: execute \"bigger than memory\" operations\n",
    "\n",
    "http://dask.pydata.org/en/latest/\n",
    "https://jakevdp.github.io/blog/2015/08/14/out-of-core-dataframes-in-python/"
   ]
  },
  {
   "cell_type": "code",
   "execution_count": 21,
   "metadata": {
    "collapsed": false,
    "scrolled": true,
    "slideshow": {
     "slide_type": "skip"
    }
   },
   "outputs": [
    {
     "data": {
      "text/plain": [
       "<dask.context.set_options at 0x7fab57138d10>"
      ]
     },
     "execution_count": 21,
     "metadata": {},
     "output_type": "execute_result"
    }
   ],
   "source": [
    "import dask\n",
    "from dask.async import get_sync\n",
    "dask.set_options(get=get_sync)"
   ]
  },
  {
   "cell_type": "code",
   "execution_count": 22,
   "metadata": {
    "collapsed": false,
    "scrolled": true,
    "slideshow": {
     "slide_type": "slide"
    }
   },
   "outputs": [
    {
     "data": {
      "text/plain": [
       "((201, 16, 107, 345), (201, 16, 107, 345))"
      ]
     },
     "execution_count": 22,
     "metadata": {},
     "output_type": "execute_result"
    }
   ],
   "source": [
    "from netCDF4 import Dataset\n",
    "\n",
    "nc = Dataset(url)\n",
    "\n",
    "t = nc['temp']\n",
    "s = nc['salt']\n",
    "\n",
    "t.shape, s.shape"
   ]
  },
  {
   "cell_type": "code",
   "execution_count": 23,
   "metadata": {
    "collapsed": false,
    "scrolled": true,
    "slideshow": {
     "slide_type": "slide"
    }
   },
   "outputs": [
    {
     "data": {
      "text/plain": [
       "dask.array<from-ar..., shape=(201, 16, 107, 345), dtype=float32, chunksize=(1, 16, 107, 345)>"
      ]
     },
     "execution_count": 23,
     "metadata": {},
     "output_type": "execute_result"
    }
   ],
   "source": [
    "import dask.array as da\n",
    "\n",
    "chunks = (1, 16, 107, 345)\n",
    "\n",
    "t = da.from_array(t, chunks=chunks)\n",
    "s = da.from_array(s, chunks=chunks)\n",
    "\n",
    "t"
   ]
  },
  {
   "cell_type": "code",
   "execution_count": 24,
   "metadata": {
    "collapsed": false,
    "scrolled": true,
    "slideshow": {
     "slide_type": "fragment"
    }
   },
   "outputs": [
    {
     "data": {
      "text/plain": [
       "dask.array<elemwis..., shape=(201, 16, 107, 345), dtype=float32, chunksize=(1, 16, 107, 345)>"
      ]
     },
     "execution_count": 24,
     "metadata": {},
     "output_type": "execute_result"
    }
   ],
   "source": [
    "(s + t) * 2"
   ]
  },
  {
   "cell_type": "code",
   "execution_count": 25,
   "metadata": {
    "collapsed": false,
    "scrolled": true,
    "slideshow": {
     "slide_type": "slide"
    }
   },
   "outputs": [
    {
     "data": {
      "image/png": "[encoded data removed]",
      "text/plain": [
       "<matplotlib.figure.Figure at 0x7fab29515590>"
      ]
     },
     "metadata": {},
     "output_type": "display_data"
    }
   ],
   "source": [
    "import gsw\n",
    "import numpy.ma as ma\n",
    "\n",
    "sigma0 = gsw.sigma0(s[-1, :, :, :], t[-1, :, :, :])\n",
    "cs = plt.pcolormesh(ma.masked_equal(sigma0, -1000))"
   ]
  },
  {
   "cell_type": "markdown",
   "metadata": {
    "slideshow": {
     "slide_type": "slide"
    }
   },
   "source": [
    "# cartopy\n",
    "\n",
    "http://scitools.org.uk/cartopy/"
   ]
  },
  {
   "cell_type": "markdown",
   "metadata": {
    "slideshow": {
     "slide_type": "slide"
    }
   },
   "source": [
    "The first python library to actually solve the dateline problem"
   ]
  },
  {
   "cell_type": "code",
   "execution_count": 26,
   "metadata": {
    "collapsed": false,
    "scrolled": true,
    "slideshow": {
     "slide_type": "fragment"
    }
   },
   "outputs": [
    {
     "data": {
      "image/png": "[encoded data removed]",
      "text/plain": [
       "<matplotlib.figure.Figure at 0x7fab202b3d90>"
      ]
     },
     "metadata": {},
     "output_type": "display_data"
    }
   ],
   "source": [
    "import matplotlib.pyplot as plt\n",
    "import cartopy.crs as ccrs\n",
    "\n",
    "ax = plt.axes(projection=ccrs.PlateCarree())\n",
    "ax.coastlines()\n",
    "ax.set_global()\n",
    "\n",
    "kw = dict(linewidth=4, color='g', transform=ccrs.Geodetic())\n",
    "l0 = plt.plot([-100, 50], [25, 25], label='Geodetic1', **kw)\n",
    "l1 = plt.plot([-38, 147], [-13, -42], label='Geodetic1', **kw)\n",
    "\n",
    "kw = dict(linewidth=4, color='b', transform=ccrs.PlateCarree())\n",
    "l2 = plt.plot([-100, 50], [25, 25], label='PlateCarree1', **kw)\n",
    "l3 = plt.plot([-38, 147], [-13, -42], label='PlateCarree2', **kw)\n",
    "\n",
    "leg = ax.legend(loc=(1.05, 0.5))"
   ]
  },
  {
   "cell_type": "markdown",
   "metadata": {
    "slideshow": {
     "slide_type": "slide"
    }
   },
   "source": [
    "When creating a log of maps it is convenient to wrap them in a plotting function"
   ]
  },
  {
   "cell_type": "code",
   "execution_count": 27,
   "metadata": {
    "collapsed": true,
    "scrolled": true,
    "slideshow": {
     "slide_type": "fragment"
    }
   },
   "outputs": [],
   "source": [
    "from oceans import cm\n",
    "import matplotlib.pyplot as plt\n",
    "\n",
    "import cartopy.crs as ccrs\n",
    "from cartopy.mpl.gridliner import LONGITUDE_FORMATTER, LATITUDE_FORMATTER\n",
    "\n",
    "\n",
    "def make_map(projection=ccrs.PlateCarree()):\n",
    "    fig, ax = plt.subplots(figsize=(9, 13),\n",
    "                           subplot_kw=dict(projection=projection))\n",
    "    gl = ax.gridlines(draw_labels=True)\n",
    "    gl.xlabels_top = gl.ylabels_right = False\n",
    "    gl.xformatter = LONGITUDE_FORMATTER\n",
    "    gl.yformatter = LATITUDE_FORMATTER\n",
    "    return fig, ax"
   ]
  },
  {
   "cell_type": "code",
   "execution_count": 28,
   "metadata": {
    "collapsed": false,
    "scrolled": true,
    "slideshow": {
     "slide_type": "slide"
    }
   },
   "outputs": [
    {
     "data": {
      "image/png": "[encoded data removed]",
      "text/plain": [
       "<matplotlib.figure.Figure at 0x7fab29598610>"
      ]
     },
     "metadata": {},
     "output_type": "display_data"
    }
   ],
   "source": [
    "lon = nc['lon_rho'][:]\n",
    "lat = nc['lat_rho'][:]\n",
    "\n",
    "fig, ax = make_map()\n",
    "ax.set_extent([lon.min(), lon.max(), lat.min(), lat.max()])\n",
    "ax.coastlines('10m')\n",
    "cs = ax.pcolormesh(lon, lat, ma.masked_equal(sigma0, -1000), cmap=cm.avhrr)\n",
    "cbar = fig.colorbar(cs, shrink=0.45, extend='both')"
   ]
  },
  {
   "cell_type": "markdown",
   "metadata": {
    "slideshow": {
     "slide_type": "slide"
    }
   },
   "source": [
    "# iris\n",
    "\n",
    "http://scitools.org.uk/iris/docs/latest/index.html"
   ]
  },
  {
   "cell_type": "markdown",
   "metadata": {
    "slideshow": {
     "slide_type": "slide"
    }
   },
   "source": [
    "Iris is an interpretation of the [CF-Conventions](http://cfconventions.org/).\n",
    "The main object is the `cube`:"
   ]
  },
  {
   "cell_type": "code",
   "execution_count": 29,
   "metadata": {
    "collapsed": false,
    "scrolled": true,
    "slideshow": {
     "slide_type": "fragment"
    }
   },
   "outputs": [
    {
     "name": "stdout",
     "output_type": "stream",
     "text": [
      "0: sediment concentration used in uniform initial conditions / (kilogram meter-3) (-- : 6)\n",
      "1: sediment surface layer erosing rate / (kilogram meter-2 second-1) (-- : 6)\n",
      "2: maximum wind and current, bottom v-wave stress / (newton meter-2) (time: 201; -- : 107; -- : 345)\n",
      "3: erosion or deposition / (meter)     (time: 201; -- : 107; -- : 345)\n",
      "4: sediment critical shear for deposition / (Newton meter-2) (-- : 6)\n",
      "5: sediment critical shear for erosion / (Newton meter-2) (-- : 6)\n",
      "6: v-Stokes drift velocity / (meter second-1) (time: 201; ocean_s_coordinate_g1: 16; -- : 106; -- : 345)\n",
      "7: sediment median grain density / (kilogram meter3) (time: 201; -- : 107; -- : 345)\n",
      "8: current-induced, bottom v-momentum stress / (newton meter-2) (time: 201; -- : 107; -- : 345)\n",
      "9: wind-induced, bottom v-momentum stress / (newton meter-2) (time: 201; -- : 107; -- : 345)\n",
      "10: sea_surface_wave_significant_height / (meter) (time: 201; -- : 107; -- : 345)\n",
      "11: bed load flux of sand in V-direction, size class 03 / (kilogram meter-1 s-1) (time: 201; -- : 106; -- : 345)\n",
      "12: bed load flux of sand in V-direction, size class 02 / (kilogram meter-1 s-1) (time: 201; -- : 106; -- : 345)\n",
      "13: bed load flux of sand in V-direction, size class 01 / (kilogram meter-1 s-1) (time: 201; -- : 106; -- : 345)\n",
      "14: biodiffusivity at bottom of each layer / (meter2 second-1) (time: 201; -- : 1; -- : 107; -- : 345)\n",
      "15: bed load flux of sand in V-direction, size class 06 / (kilogram meter-1 s-1) (time: 201; -- : 106; -- : 345)\n",
      "16: bed load flux of sand in V-direction, size class 05 / (kilogram meter-1 s-1) (time: 201; -- : 106; -- : 345)\n",
      "17: bed load flux of sand in V-direction, size class 04 / (kilogram meter-1 s-1) (time: 201; -- : 106; -- : 345)\n",
      "18: active layer thickness / (meter)    (time: 201; -- : 107; -- : 345)\n",
      "19: Tracers nudging/relaxation inverse time scale / (day-1) (-- : 8)\n",
      "20: tracer climatology processing switch / (1) (-- : 8)\n",
      "21: sediment porosity / (1)             (-- : 6)\n",
      "22: median sediment grain diameter used in uniform initial conditions / (millimeter) (-- : 6)\n",
      "23: vertically integrated v-momentum component / (meter second-1) (time: 201; -- : 106; -- : 345)\n",
      "24: wind-induced bottom wave Period / (second) (time: 201; -- : 107; -- : 345)\n",
      "25: background vertical mixing coefficient for tracers / (meter2 second-1) (-- : 8)\n",
      "26: max wave and current bottom stress magnitude / (newton meter-2) (time: 201; -- : 107; -- : 345)\n",
      "27: wet/dry mask on PSI-points / (1)    (time: 201; -- : 106; -- : 344)\n",
      "28: u-Stokes drift velocity / (meter second-1) (time: 201; ocean_s_coordinate_g1: 16; -- : 107; -- : 344)\n",
      "29: maximum wind and current, bottom u-wave stress / (newton meter-2) (time: 201; -- : 107; -- : 345)\n",
      "30: noncohesive sediment fraction, size class 02 / (1) (time: 201; -- : 1; -- : 107; -- : 345)\n",
      "31: noncohesive sediment fraction, size class 03 / (1) (time: 201; -- : 1; -- : 107; -- : 345)\n",
      "32: noncohesive sediment fraction, size class 01 / (1) (time: 201; -- : 1; -- : 107; -- : 345)\n",
      "33: noncohesive sediment fraction, size class 06 / (1) (time: 201; -- : 1; -- : 107; -- : 345)\n",
      "34: noncohesive sediment fraction, size class 04 / (1) (time: 201; -- : 1; -- : 107; -- : 345)\n",
      "35: noncohesive sediment fraction, size class 05 / (1) (time: 201; -- : 1; -- : 107; -- : 345)\n",
      "36: current-induced, bottom u-momentum stress / (newton meter-2) (time: 201; -- : 107; -- : 345)\n",
      "37: tracer climatology nudging activation switch / (1) (-- : 8)\n",
      "38: wind-induced, bottom u-momentum stress / (newton meter-2) (time: 201; -- : 107; -- : 345)\n",
      "39: bed load flux of sand in U-direction, size class 02 / (kilogram meter-1 s-1) (time: 201; -- : 107; -- : 344)\n",
      "40: bed load flux of sand in U-direction, size class 03 / (kilogram meter-1 s-1) (time: 201; -- : 107; -- : 344)\n",
      "41: bed load flux of sand in U-direction, size class 01 / (kilogram meter-1 s-1) (time: 201; -- : 107; -- : 344)\n",
      "42: bed load flux of sand in U-direction, size class 06 / (kilogram meter-1 s-1) (time: 201; -- : 107; -- : 344)\n",
      "43: bed load flux of sand in U-direction, size class 04 / (kilogram meter-1 s-1) (time: 201; -- : 107; -- : 344)\n",
      "44: bed load flux of sand in U-direction, size class 05 / (kilogram meter-1 s-1) (time: 201; -- : 107; -- : 344)\n",
      "45: noncohesive sediment mass, size class 06 / (kilogram meter-2) (time: 201; -- : 1; -- : 107; -- : 345)\n",
      "46: noncohesive sediment mass, size class 04 / (kilogram meter-2) (time: 201; -- : 1; -- : 107; -- : 345)\n",
      "47: noncohesive sediment mass, size class 05 / (kilogram meter-2) (time: 201; -- : 1; -- : 107; -- : 345)\n",
      "48: noncohesive sediment mass, size class 02 / (kilogram meter-2) (time: 201; -- : 1; -- : 107; -- : 345)\n",
      "49: noncohesive sediment mass, size class 03 / (kilogram meter-2) (time: 201; -- : 1; -- : 107; -- : 345)\n",
      "50: noncohesive sediment mass, size class 01 / (kilogram meter-2) (time: 201; -- : 1; -- : 107; -- : 345)\n",
      "51: sediment grain density used in uniform initial conditions / (kilogram meter-3) (-- : 6)\n",
      "52: sediment particle settling velocity / (meter second-1) (-- : 6)\n",
      "53: vertical momentum component / (meter second-1) (time: 201; ocean_s_coordinate_g1: 17; -- : 107; -- : 345)\n",
      "54: coupling vertically integrated u-momentum component / (meter second-1) (time: 201; -- : 107; -- : 345)\n",
      "55: mask on V-points / (1)              (-- : 106; -- : 345)\n",
      "56: mask on U-points / (1)              (-- : 107; -- : 344)\n",
      "57: mask on RHO-points / (1)            (-- : 107; -- : 345)\n",
      "58: sediment median critical erosion stress / (newton meter-2) (time: 201; -- : 107; -- : 345)\n",
      "59: wet/dry mask on V-points / (1)      (time: 201; -- : 106; -- : 345)\n",
      "60: wet/dry mask on U-points / (1)      (time: 201; -- : 107; -- : 344)\n",
      "61: curvilinear coordinate metric in ETA / (meter-1) (-- : 107; -- : 345)\n",
      "62: curvilinear coordinate metric in XI / (meter-1) (-- : 107; -- : 345)\n",
      "63: bottom ripple length / (meter)      (time: 201; -- : 107; -- : 345)\n",
      "64: wind-induced mean wavelength / (meter) (time: 201; -- : 107; -- : 345)\n",
      "65: sediment median grain settling velocity / (meter second-1) (time: 201; -- : 107; -- : 345)\n",
      "66: wind-induced peak surface wave Period / (second) (time: 201; -- : 107; -- : 345)\n",
      "67: Coriolis parameter at RHO-points / (second-1) (-- : 107; -- : 345)\n",
      "68: vertically integrated u-momentum component / (meter second-1) (time: 201; -- : 107; -- : 344)\n",
      "69: y_sea_water_velocity / (meter second-1) (time: 201; ocean_s_coordinate_g1: 16; -- : 106; -- : 345)\n",
      "70: sediment layer porosity / (1)       (time: 201; -- : 1; -- : 107; -- : 345)\n",
      "71: horizontal diffusivity sponge activation switch / (1) (-- : 8)\n",
      "72: coupling vertically integrated v-momentum component / (meter second-1) (time: 201; -- : 107; -- : 345)\n",
      "73: nonlinear model Laplacian mixing coefficient for tracers / (meter2 second-1) (-- : 8)\n",
      "74: inundation depth / (meter)          (time: 201; -- : 107; -- : 345)\n",
      "75: wet/dry mask on RHO-points / (1)    (time: 201; -- : 107; -- : 345)\n",
      "76: default bottom roughness length / (meter) (time: 201; -- : 107; -- : 345)\n",
      "77: suspended noncohesive sediment, size class 02 / (kilogram meter-3) (time: 201; ocean_s_coordinate_g1: 16; -- : 107; -- : 345)\n",
      "78: suspended noncohesive sediment, size class 03 / (kilogram meter-3) (time: 201; ocean_s_coordinate_g1: 16; -- : 107; -- : 345)\n",
      "79: suspended noncohesive sediment, size class 01 / (kilogram meter-3) (time: 201; ocean_s_coordinate_g1: 16; -- : 107; -- : 345)\n",
      "80: suspended noncohesive sediment, size class 06 / (kilogram meter-3) (time: 201; ocean_s_coordinate_g1: 16; -- : 107; -- : 345)\n",
      "81: suspended noncohesive sediment, size class 04 / (kilogram meter-3) (time: 201; ocean_s_coordinate_g1: 16; -- : 107; -- : 345)\n",
      "82: suspended noncohesive sediment, size class 05 / (kilogram meter-3) (time: 201; ocean_s_coordinate_g1: 16; -- : 107; -- : 345)\n",
      "83: wind-induced peak wavelength / (meter) (time: 201; -- : 107; -- : 345)\n",
      "84: wind-induced wave direction / (degrees) (time: 201; -- : 107; -- : 345)\n",
      "85: sediment layer age / (seconds)      (time: 201; -- : 1; -- : 107; -- : 345)\n",
      "86: sediment median grain diameter size / (meter) (time: 201; -- : 107; -- : 345)\n",
      "87: tracer point sources and sink activation switch / (1) (-- : 8)\n",
      "88: mask on psi-points / (1)            (-- : 106; -- : 344)\n",
      "89: angle between XI-axis and EAST / (radians) (-- : 107; -- : 345)\n",
      "90: apparent bottom roughness length / (meter) (time: 201; -- : 107; -- : 345)\n",
      "91: sediment bed layer thickness / (meter) (time: 201; -- : 1; -- : 107; -- : 345)\n",
      "92: bed wave excursion amplitude / (meter) (time: 201; -- : 107; -- : 345)\n",
      "93: x_sea_water_velocity / (meter second-1) (time: 201; ocean_s_coordinate_g1: 16; -- : 107; -- : 344)\n",
      "94: sea_water_potential_temperature / (Celsius) (time: 201; ocean_s_coordinate_g1: 16; -- : 107; -- : 345)\n",
      "95: wind-induced bottom orbital velocity / (meter second-1) (time: 201; -- : 107; -- : 345)\n",
      "96: sea_water_salinity / (1)            (time: 201; ocean_s_coordinate_g1: 16; -- : 107; -- : 345)\n",
      "97: bottom ripple height / (meter)      (time: 201; -- : 107; -- : 345)\n"
     ]
    }
   ],
   "source": [
    "import iris\n",
    "\n",
    "cubes = iris.load_raw(url)\n",
    "print(cubes)"
   ]
  },
  {
   "cell_type": "markdown",
   "metadata": {
    "slideshow": {
     "slide_type": "slide"
    }
   },
   "source": [
    "We can take advantage of the CF conventions to access variables by its `standard_name`"
   ]
  },
  {
   "cell_type": "code",
   "execution_count": 30,
   "metadata": {
    "collapsed": false,
    "scrolled": false,
    "slideshow": {
     "slide_type": "fragment"
    }
   },
   "outputs": [
    {
     "name": "stdout",
     "output_type": "stream",
     "text": [
      "sea_water_potential_temperature               (time: 201; ocean_s_coordinate_g1: 16; -- : 107; -- : 345)\n",
      "     Dimension coordinates:\n",
      "          time                                             x                           -        -         -\n",
      "          ocean_s_coordinate_g1                            -                           x        -         -\n",
      "     Auxiliary coordinates:\n",
      "          free-surface                                     x                           -        x         x\n",
      "          S-coordinate stretching curves at RHO-points     -                           x        -         -\n",
      "          bathymetry at RHO-points                         -                           -        x         x\n",
      "          latitude                                         -                           -        x         x\n",
      "          longitude                                        -                           -        x         x\n",
      "     Derived coordinates:\n",
      "          sea_surface_height_above_reference_ellipsoid     x                           x        x         x\n",
      "     Scalar coordinates:\n",
      "          S-coordinate parameter, critical depth: 2.0 meter\n",
      "     Attributes:\n",
      "          CPP_options: FIREISLAND, ANA_BPFLUX, ANA_BSFLUX, ANA_BTFLUX, ANA_FSOBC, ANA_M2OBC, ANA_NUDGCOEF,...\n",
      "          Conventions: CF-1.6, SGRID-0.1, ACDD-1.3\n",
      "          NLM_LBC: \n",
      "EDGE:         WEST   SOUTH  EAST   NORTH  \n",
      "zeta:         Nes    Nes  ...\n",
      "          ana_file: ROMS/Functionals/ana_btflux.h, ROMS/Functionals/ana_fsobc.h, ROMS/Functionals/ana_m2obc.h,...\n",
      "          cdm_data_type: Grid\n",
      "          clm_file_01: ../forcings/merged_coawst_clm_10Sep_29Dec2012.nc\n",
      "          code_dir: /raid3/jcwarner/Projects/Sandy/sim6\n",
      "          compiler_command: /usr/local/mpi/bin/mpif90\n",
      "          compiler_flags:  -fastsse -Mipa=fast -tp k8-64 -Mfree\n",
      "          compiler_system: pgi\n",
      "          content_coverage_type: modelResult\n",
      "          cpu: x86_64\n",
      "          creator_email: jcwarner@usgs.gov\n",
      "          creator_name: John Warner\n",
      "          creator_url: http://woodshole.er.usgs.gov/staffpages/jwarner/\n",
      "          field: temperature, scalar, series\n",
      "          file: Output/ocean_NYB05_his_0016.nc\n",
      "          format: netCDF-3 64bit offset file\n",
      "          frc_file_01: ../forcings/roms_namnarr_2030Oct2012.nc, ../forcings/roms_namnarr_30Oc...\n",
      "          grd_file: ../grids/NYB_700m_05.nc\n",
      "          grid: grid\n",
      "          header_dir: /raid3/jcwarner/Projects/Sandy/sim6/Projects/FireIsland\n",
      "          header_file: fireisland.h\n",
      "          his_base: Output/ocean_NYB05_his\n",
      "          history: ROMS/TOMS, Version 3.7, Tuesday - June 2, 2015 - 10:15:23 PM\n",
      "          id: USGS_COAWST_Sandy_NYB05_sim6\n",
      "          ini_file: Output/ocean_NYB05_his_0009.nc\n",
      "          license: The data may be used and redistributed for free but is not intended for...\n",
      "          location: face\n",
      "          naming_authority: gov.usgs.cmg\n",
      "          os: Linux\n",
      "          project: CMG_Portal,Sandy_Portal\n",
      "          publisher_email: jcwarner@usgs.gov\n",
      "          publisher_name: John Warner\n",
      "          publisher_url: http://woodshole.er.usgs.gov/staffpages/jwarner/\n",
      "          references: http://woodshole.er.usgs.gov/operations/modeling/COAWST/,doi:10.1016/j...\n",
      "          rst_file: Output/ocean_NYB05_rst.nc\n",
      "          script_file: \n",
      "          summary: Simulation of hydrodynamics, waves, bottom stress and sediment transport...\n",
      "          svn_rev: exported\n",
      "          svn_url: https:://myroms.org/svn/src\n",
      "          tiling: 008x005\n",
      "          time: ocean_time\n",
      "          title: USGS-CMG-COAWST Model: Hurricane Sandy, NYB05 700m Nest\n",
      "          type: ROMS/TOMS history file\n"
     ]
    }
   ],
   "source": [
    "temp = cubes.extract_strict('sea_water_potential_temperature')\n",
    "print(temp)"
   ]
  },
  {
   "cell_type": "markdown",
   "metadata": {
    "slideshow": {
     "slide_type": "slide"
    }
   },
   "source": [
    "Like `xray` we have both high and low level slicing\n",
    "(Although the high level slicing in `iris` is too sophisticated for my taste ;-)"
   ]
  },
  {
   "cell_type": "code",
   "execution_count": 31,
   "metadata": {
    "collapsed": false,
    "scrolled": true,
    "slideshow": {
     "slide_type": "fragment"
    }
   },
   "outputs": [
    {
     "name": "stdout",
     "output_type": "stream",
     "text": [
      "sea_water_potential_temperature             (-- : 107; -- : 345)\n",
      "     Auxiliary coordinates:\n",
      "          bathymetry at RHO-points                         x         x\n",
      "          free-surface                                     x         x\n",
      "          latitude                                         x         x\n",
      "          longitude                                        x         x\n",
      "     Derived coordinates:\n",
      "          sea_surface_height_above_reference_ellipsoid     x         x\n",
      "     Scalar coordinates:\n",
      "          S-coordinate parameter, critical depth: 2.0 meter\n",
      "          S-coordinate stretching curves at RHO-points: -0.00225488671278\n",
      "          ocean_s_coordinate_g1: -0.03125\n",
      "          time: 2012-11-02 08:00:00.000006\n",
      "     Attributes:\n",
      "          CPP_options: FIREISLAND, ANA_BPFLUX, ANA_BSFLUX, ANA_BTFLUX, ANA_FSOBC, ANA_M2OBC, ANA_NUDGCOEF,...\n",
      "          Conventions: CF-1.6, SGRID-0.1, ACDD-1.3\n",
      "          NLM_LBC: \n",
      "EDGE:         WEST   SOUTH  EAST   NORTH  \n",
      "zeta:         Nes    Nes  ...\n",
      "          ana_file: ROMS/Functionals/ana_btflux.h, ROMS/Functionals/ana_fsobc.h, ROMS/Functionals/ana_m2obc.h,...\n",
      "          cdm_data_type: Grid\n",
      "          clm_file_01: ../forcings/merged_coawst_clm_10Sep_29Dec2012.nc\n",
      "          code_dir: /raid3/jcwarner/Projects/Sandy/sim6\n",
      "          compiler_command: /usr/local/mpi/bin/mpif90\n",
      "          compiler_flags:  -fastsse -Mipa=fast -tp k8-64 -Mfree\n",
      "          compiler_system: pgi\n",
      "          content_coverage_type: modelResult\n",
      "          cpu: x86_64\n",
      "          creator_email: jcwarner@usgs.gov\n",
      "          creator_name: John Warner\n",
      "          creator_url: http://woodshole.er.usgs.gov/staffpages/jwarner/\n",
      "          field: temperature, scalar, series\n",
      "          file: Output/ocean_NYB05_his_0016.nc\n",
      "          format: netCDF-3 64bit offset file\n",
      "          frc_file_01: ../forcings/roms_namnarr_2030Oct2012.nc, ../forcings/roms_namnarr_30Oc...\n",
      "          grd_file: ../grids/NYB_700m_05.nc\n",
      "          grid: grid\n",
      "          header_dir: /raid3/jcwarner/Projects/Sandy/sim6/Projects/FireIsland\n",
      "          header_file: fireisland.h\n",
      "          his_base: Output/ocean_NYB05_his\n",
      "          history: ROMS/TOMS, Version 3.7, Tuesday - June 2, 2015 - 10:15:23 PM\n",
      "          id: USGS_COAWST_Sandy_NYB05_sim6\n",
      "          ini_file: Output/ocean_NYB05_his_0009.nc\n",
      "          license: The data may be used and redistributed for free but is not intended for...\n",
      "          location: face\n",
      "          naming_authority: gov.usgs.cmg\n",
      "          os: Linux\n",
      "          project: CMG_Portal,Sandy_Portal\n",
      "          publisher_email: jcwarner@usgs.gov\n",
      "          publisher_name: John Warner\n",
      "          publisher_url: http://woodshole.er.usgs.gov/staffpages/jwarner/\n",
      "          references: http://woodshole.er.usgs.gov/operations/modeling/COAWST/,doi:10.1016/j...\n",
      "          rst_file: Output/ocean_NYB05_rst.nc\n",
      "          script_file: \n",
      "          summary: Simulation of hydrodynamics, waves, bottom stress and sediment transport...\n",
      "          svn_rev: exported\n",
      "          svn_url: https:://myroms.org/svn/src\n",
      "          tiling: 008x005\n",
      "          time: ocean_time\n",
      "          title: USGS-CMG-COAWST Model: Hurricane Sandy, NYB05 700m Nest\n",
      "          type: ROMS/TOMS history file\n"
     ]
    }
   ],
   "source": [
    "t = temp[-1, -1, ...]\n",
    "\n",
    "print(t)  # The metadata is always propagated."
   ]
  },
  {
   "cell_type": "markdown",
   "metadata": {
    "slideshow": {
     "slide_type": "slide"
    }
   },
   "source": [
    "There are even some quick plotting to explore the data\n",
    "\n",
    "(Free colorbar, units label, and title!)"
   ]
  },
  {
   "cell_type": "code",
   "execution_count": 32,
   "metadata": {
    "collapsed": false,
    "scrolled": true,
    "slideshow": {
     "slide_type": "fragment"
    }
   },
   "outputs": [
    {
     "data": {
      "image/png": "[encoded data removed]",
      "text/plain": [
       "<matplotlib.figure.Figure at 0x7fab21738090>"
      ]
     },
     "metadata": {},
     "output_type": "display_data"
    }
   ],
   "source": [
    "import iris.quickplot as qplt\n",
    "\n",
    "cs = qplt.pcolormesh(t)"
   ]
  },
  {
   "cell_type": "markdown",
   "metadata": {
    "slideshow": {
     "slide_type": "slide"
    }
   },
   "source": [
    "# Some very \"oceanographic\" libraries\n",
    "\n",
    "\n",
    "### odvc\n",
    "\n",
    "https://raw.githubusercontent.com/ioos/odvc/master/notebooks/ocean_sigma_coordinate-FVCOM.ipynb\n",
    "\n",
    "\n",
    "### pyoos\n",
    "\n",
    "http://ioos.github.io/system-test/\n",
    "\n",
    "\n",
    "### pyugrid\n",
    "\n",
    "http://pyugrid.github.io/pyugrid/\n",
    "https://ocefpaf.github.io/python4oceanographers/blog/2015/07/20/pyugrid/\n",
    "\n",
    "### pysgrid\n",
    "\n",
    "https://github.com/sgrid/pysgrid\n",
    "http://nbviewer.ipython.org/urls/raw.githubusercontent.com/sgrid/pysgrid/master/pysgrid/notebook_examples/hudson_shelf_valley.ipynb\n",
    "\n",
    "### ciso\n",
    "\n",
    "https://github.com/ioos/ciso\n",
    "http://nbviewer.ipython.org/gist/ocefpaf/ee14af5220bc3512131f\n",
    "\n",
    "### utide\n",
    "\n",
    "https://github.com/wesleybowman/UTide\n",
    "https://ocefpaf.github.io/python4oceanographers/blog/2015/05/18/utide_ellipse/\n",
    "\n",
    "### And many more!\n",
    "\n",
    "https://ocefpaf.github.io/seapy/"
   ]
  },
  {
   "cell_type": "markdown",
   "metadata": {},
   "source": [
    "# Some not so \"oceanographic\" but very useful\n",
    "\n",
    "- [scipy](http://www.scipy.org/)\n",
    "- [scikit-learn](http://scikit-learn.org/stable/)\n",
    "- [scikit-image](http://scikit-image.org/)\n",
    "- [statsmodels](http://statsmodels.sourceforge.net/)\n",
    "- [bokeh](http://bokeh.pydata.org/en/latest/)\n",
    "- [numba](http://numba.pydata.org/)\n",
    "- [cython](http://cython.org/)\n",
    "- [sympy](http://www.sympy.org/en/index.html)"
   ]
  },
  {
   "cell_type": "markdown",
   "metadata": {
    "slideshow": {
     "slide_type": "slide"
    }
   },
   "source": [
    "# Extra resources\n",
    "\n",
    "- Blog: http://ocefpaf.github.io/python4oceanographers/\n",
    "- Installation: https://github.com/ioos/conda-recipes/wiki/Setting-up-the-IOOS-Python-environment\n",
    "- Software list: https://ocefpaf.github.io/seapy/\n",
    "- And the [Jupyter/IPython notebook](http://jupyter-notebook-beginner-guide.readthedocs.org/en/latest/)"
   ]
  },
  {
   "cell_type": "markdown",
   "metadata": {
    "slideshow": {
     "slide_type": "slide"
    }
   },
   "source": [
    "# Extra slides\n",
    "\n",
    "## Using python as a glue language\n",
    "\n",
    "https://ocefpaf.github.io/python4oceanographers/blog/2015/01/26/fortran/\n",
    "https://ocefpaf.github.io/python4oceanographers/blog/2014/10/13/r_oce/\n",
    "https://ocefpaf.github.io/python4oceanographers/blog/2015/10/05/isosurfaces/"
   ]
  },
  {
   "cell_type": "markdown",
   "metadata": {
    "slideshow": {
     "slide_type": "slide"
    }
   },
   "source": [
    "Calling matlab\n",
    "\n",
    "(See [matlab_kernel](https://pypi.python.org/pypi/matlab_kernel) for full matlab)"
   ]
  },
  {
   "cell_type": "code",
   "execution_count": 33,
   "metadata": {
    "collapsed": true,
    "slideshow": {
     "slide_type": "fragment"
    }
   },
   "outputs": [],
   "source": [
    "%load_ext oct2py.ipython"
   ]
  },
  {
   "cell_type": "code",
   "execution_count": 34,
   "metadata": {
    "collapsed": false,
    "slideshow": {
     "slide_type": "fragment"
    }
   },
   "outputs": [
    {
     "name": "stdout",
     "output_type": "stream",
     "text": [
      "Overwriting fahr_to_kelvin.m\n"
     ]
    }
   ],
   "source": [
    "%%file fahr_to_kelvin.m\n",
    "\n",
    "function ktemp = fahr_to_kelvin(ftemp)\n",
    "    ktemp = ((ftemp - 32) * (5/9)) + 273.15;\n",
    "end"
   ]
  },
  {
   "cell_type": "code",
   "execution_count": 35,
   "metadata": {
    "collapsed": false,
    "slideshow": {
     "slide_type": "slide"
    }
   },
   "outputs": [
    {
     "data": {
      "text/plain": [
       "ans =  273.15"
      ]
     },
     "metadata": {},
     "output_type": "display_data"
    }
   ],
   "source": [
    "%%octave\n",
    "\n",
    "fahr_to_kelvin(32)"
   ]
  },
  {
   "cell_type": "markdown",
   "metadata": {
    "slideshow": {
     "slide_type": "slide"
    }
   },
   "source": [
    "Calling Fortran"
   ]
  },
  {
   "cell_type": "code",
   "execution_count": 36,
   "metadata": {
    "collapsed": false,
    "slideshow": {
     "slide_type": "fragment"
    }
   },
   "outputs": [
    {
     "data": {
      "application/javascript": [
       "$.getScript(\"https://raw.github.com/marijnh/CodeMirror/master/mode/fortran/fortran.js\", function () {\n",
       "IPython.config.cell_magic_highlight['magic_fortran'] = {'reg':[/^%%fortran/]};});\n"
      ]
     },
     "metadata": {},
     "output_type": "display_data"
    }
   ],
   "source": [
    "%load_ext fortranmagic"
   ]
  },
  {
   "cell_type": "code",
   "execution_count": 37,
   "metadata": {
    "collapsed": true,
    "slideshow": {
     "slide_type": "fragment"
    }
   },
   "outputs": [],
   "source": [
    "%%fortran\n",
    "\n",
    "subroutine calc_sin(x, y)\n",
    "    real, intent(in) :: x\n",
    "    real, intent(out) :: y\n",
    "\n",
    "    y = sin(x)\n",
    "\n",
    "end subroutine calc_sin"
   ]
  },
  {
   "cell_type": "code",
   "execution_count": 38,
   "metadata": {
    "collapsed": false,
    "slideshow": {
     "slide_type": "fragment"
    }
   },
   "outputs": [
    {
     "data": {
      "text/plain": [
       "1.0"
      ]
     },
     "execution_count": 38,
     "metadata": {},
     "output_type": "execute_result"
    }
   ],
   "source": [
    "calc_sin(np.pi/2)"
   ]
  },
  {
   "cell_type": "markdown",
   "metadata": {
    "slideshow": {
     "slide_type": "slide"
    }
   },
   "source": [
    "Calling R"
   ]
  },
  {
   "cell_type": "code",
   "execution_count": 39,
   "metadata": {
    "collapsed": false,
    "slideshow": {
     "slide_type": "fragment"
    }
   },
   "outputs": [],
   "source": [
    "%load_ext rpy2.ipython"
   ]
  },
  {
   "cell_type": "code",
   "execution_count": 40,
   "metadata": {
    "collapsed": false,
    "slideshow": {
     "slide_type": "fragment"
    }
   },
   "outputs": [
    {
     "data": {
      "text/plain": [
       "\n",
       "Call:\n",
       "lm(formula = Y ~ X)\n",
       "\n",
       "Residuals:\n",
       "    1     2     3     4 \n",
       " 0.88 -0.24 -2.28  1.64 \n",
       "\n",
       "Coefficients:\n",
       "            Estimate Std. Error t value Pr(>|t|)\n",
       "(Intercept)   0.0800     2.3000   0.035    0.975\n",
       "X             1.0400     0.4822   2.157    0.164\n",
       "\n",
       "Residual standard error: 2.088 on 2 degrees of freedom\n",
       "Multiple R-squared:  0.6993,\tAdjusted R-squared:  0.549 \n",
       "F-statistic: 4.651 on 1 and 2 DF,  p-value: 0.1638\n",
       "\n"
      ]
     },
     "metadata": {},
     "output_type": "display_data"
    }
   ],
   "source": [
    "%%R\n",
    "X=c(1,4,5,7)\n",
    "Y = c(2,4,3,9)\n",
    "print(summary(lm(Y~X)))"
   ]
  },
  {
   "cell_type": "markdown",
   "metadata": {
    "slideshow": {
     "slide_type": "skip"
    }
   },
   "source": [
    "- chooseCRANmirror(graphics=FALSE)\n",
    "- install.packages('oce')"
   ]
  },
  {
   "cell_type": "code",
   "execution_count": 41,
   "metadata": {
    "collapsed": false,
    "slideshow": {
     "slide_type": "slide"
    }
   },
   "outputs": [
    {
     "name": "stdout",
     "output_type": "stream",
     "text": [
      "\n",
      "Error in library(oce) : there is no package called ‘oce’\n"
     ]
    }
   ],
   "source": [
    "%%R\n",
    "\n",
    "Sa <- 30\n",
    "Ta <- 10\n",
    "Sb <- 40\n",
    "\n",
    "library(oce)\n",
    "\n",
    "rho0 <- swRho(Sa, Ta, 0)\n",
    "Tb <- uniroot(function(T) rho0-swRho(Sb,T,0), lower=0, upper=100)$root\n",
    "Sc <- (Sa + Sb) /2\n",
    "Tc <- (Ta + Tb) /2\n",
    "\n",
    "drho <- swRho(Sc, Tc, 0) - rho0\n",
    "dT <- drho / rho0 / swAlpha(Sc, Tc, 0)\n",
    "\n",
    "plotTS(as.ctd(c(Sa, Sb, Sc), c(Ta, Tb, Tc), 0), pch=20, cex=2)\n",
    "drawIsopycnals(levels=rho0, col=\"red\", cex=0)\n",
    "segments(Sa, Ta, Sb, Tb, col=\"blue\")\n",
    "text(Sb, Tb, \"b\", pos=4)\n",
    "text(Sa, Ta, \"a\", pos=4)\n",
    "text(Sc, Tc, \"c\", pos=4)\n",
    "legend(\"topleft\",\n",
    "       legend=sprintf(\"Sa=%.1f, Ta=%.1f, Sb=%.1f  ->  Tb=%.1f, drho=%.2f, dT=%.2f\",\n",
    "                      Sa, Ta, Sb, Tb, drho, dT),\n",
    "       bg=\"white\")"
   ]
  },
  {
   "cell_type": "code",
   "execution_count": 42,
   "metadata": {
    "collapsed": false,
    "scrolled": true,
    "slideshow": {
     "slide_type": "skip"
    }
   },
   "outputs": [
    {
     "data": {
      "text/html": [
       "<link href='http://fonts.googleapis.com/css?family=Fenix' rel='stylesheet' type='text/css'>\n",
       "<link href='http://fonts.googleapis.com/css?family=Alegreya+Sans:100,300,400,500,700,800,900,100italic,300italic,400italic,500italic,700italic,800italic,900italic' rel='stylesheet' type='text/css'>\n",
       "<link href='http://fonts.googleapis.com/css?family=Source+Code+Pro:300,400' rel='stylesheet' type='text/css'>\n",
       "<style>\n",
       "    @font-face {\n",
       "        font-family: \"Computer Modern\";\n",
       "        src: url('http://mirrors.ctan.org/fonts/cm-unicode/fonts/otf/cmunss.otf');\n",
       "    }\n",
       "    div.cell{\n",
       "        width:950px;\n",
       "        margin-left:16% !important;\n",
       "        margin-right:auto;\n",
       "    }\n",
       "    h1 {\n",
       "        font-family: 'Alegreya Sans', sans-serif;\n",
       "    }\n",
       "    h2 {\n",
       "        font-family: 'Fenix', serif;\n",
       "    }\n",
       "    h3{\n",
       "        font-family: 'Fenix', serif;\n",
       "        margin-top:12px;\n",
       "        margin-bottom: 3px;\n",
       "       }\n",
       "    h4{\n",
       "        font-family: 'Fenix', serif;\n",
       "       }\n",
       "    h5 {\n",
       "        font-family: 'Alegreya Sans', sans-serif;\n",
       "    }\n",
       "/*    div.text_cell_render{\n",
       "        font-family: 'Alegreya Sans',Computer Modern, \"Helvetica Neue\", Arial, Helvetica, Geneva, sans-serif;\n",
       "        line-height: 135%;\n",
       "        font-size: 120%;\n",
       "        width:600px;\n",
       "        margin-left:auto;\n",
       "        margin-right:auto;\n",
       "    }*/\n",
       "    .CodeMirror{\n",
       "            font-family: \"Source Code Pro\";\n",
       "            font-size: 90%;\n",
       "    }\n",
       "/*    .prompt{\n",
       "        display: None;\n",
       "    }*/\n",
       "    .text_cell_render h1 {\n",
       "        font-weight: 200;\n",
       "        font-size: 50pt;\n",
       "        line-height: 100%;\n",
       "        color:#CD2305;\n",
       "        margin-bottom: 0.5em;\n",
       "        margin-top: 0.5em;\n",
       "        display: block;\n",
       "    }\n",
       "    .text_cell_render h5 {\n",
       "        font-weight: 300;\n",
       "        font-size: 16pt;\n",
       "        color: #CD2305;\n",
       "        font-style: italic;\n",
       "        margin-bottom: .5em;\n",
       "        margin-top: 0.5em;\n",
       "        display: block;\n",
       "    }\n",
       "\n",
       "    .github-icon-svg,\n",
       "    .twitter-icon-svg {\n",
       "        display: inline-block;\n",
       "        width: 16px;\n",
       "        height: 16px;\n",
       "        position: relative;\n",
       "        top: 3px;\n",
       "        }\n",
       "\n",
       "    .warning{\n",
       "        color: rgb( 240, 20, 20 )\n",
       "        }\n",
       "</style>\n",
       "<script>\n",
       "    MathJax.Hub.Config({\n",
       "                        TeX: {\n",
       "                           extensions: [\"AMSmath.js\"]\n",
       "                           },\n",
       "                tex2jax: {\n",
       "                    inlineMath: [ ['$','$'], [\"\\\\(\",\"\\\\)\"] ],\n",
       "                    displayMath: [ ['$$','$$'], [\"\\\\[\",\"\\\\]\"] ]\n",
       "                },\n",
       "                displayAlign: 'center', // Change this to 'center' to center equations.\n",
       "                \"HTML-CSS\": {\n",
       "                    styles: {'.MathJax_Display': {\"margin\": 4}}\n",
       "                }\n",
       "        });\n",
       "</script>\n"
      ],
      "text/plain": [
       "<IPython.core.display.HTML object>"
      ]
     },
     "execution_count": 42,
     "metadata": {},
     "output_type": "execute_result"
    }
   ],
   "source": [
    "HTML(css)"
   ]
  }
 ],
 "metadata": {
  "celltoolbar": "Slideshow",
  "kernelspec": {
   "display_name": "Python 2",
   "language": "python",
   "name": "python2"
  },
  "language_info": {
   "codemirror_mode": {
    "name": "ipython",
    "version": 2
   },
   "file_extension": ".py",
   "mimetype": "text/x-python",
   "name": "python",
   "nbconvert_exporter": "python",
   "pygments_lexer": "ipython2",
   "version": "2.7.10"
  }
 },
 "nbformat": 4,
 "nbformat_minor": 0
}
